{
  "nbformat": 4,
  "nbformat_minor": 0,
  "metadata": {
    "kernelspec": {
      "display_name": "Python 3",
      "language": "python",
      "name": "python3"
    },
    "language_info": {
      "codemirror_mode": {
        "name": "ipython",
        "version": 3
      },
      "file_extension": ".py",
      "mimetype": "text/x-python",
      "name": "python",
      "nbconvert_exporter": "python",
      "pygments_lexer": "ipython3",
      "version": "3.6.6"
    },
    "colab": {
      "name": "IntroToClassicalNlp.ipynb",
      "provenance": [],
      "include_colab_link": true
    }
  },
  "cells": [
    {
      "cell_type": "markdown",
      "metadata": {
        "id": "view-in-github",
        "colab_type": "text"
      },
      "source": [
        "<a href=\"https://colab.research.google.com/github/cesarniyo/Credit-Card-Fraud-Detection-ANOMALY-DETECTION/blob/master/IntroToClassicalNlp.ipynb\" target=\"_parent\"><img src=\"https://colab.research.google.com/assets/colab-badge.svg\" alt=\"Open In Colab\"/></a>"
      ]
    },
    {
      "cell_type": "markdown",
      "metadata": {
        "id": "Yefzxowba2km",
        "colab_type": "text"
      },
      "source": [
        "# 1. Introduction\n",
        "\n",
        "## 1.1 NLTK Setup\n",
        "\n",
        "* NLTK is included with the Anaconda Distribution of Python, or can be downloaded directly from nltk.org.\n",
        "* Once NLTK is installed, the text data files (corpora) should be downloaded. See the following cell to start the download."
      ]
    },
    {
      "cell_type": "code",
      "metadata": {
        "id": "wu3_SCFBa2kq",
        "colab_type": "code",
        "colab": {},
        "outputId": "7488b303-353b-416c-82ba-077312ca050d"
      },
      "source": [
        "import nltk\n",
        "\n",
        "# uncomment the line below to download NLTK resources the first time NLTK is used and RUN this cell.\n",
        "# when the \"NLTK Downloader\" dialog appears (takes 10-20 seconds), click on the \"download\" button\n",
        "nltk.download()"
      ],
      "execution_count": 0,
      "outputs": [
        {
          "output_type": "stream",
          "text": [
            "showing info https://raw.githubusercontent.com/nltk/nltk_data/gh-pages/index.xml\n"
          ],
          "name": "stdout"
        },
        {
          "output_type": "execute_result",
          "data": {
            "text/plain": [
              "True"
            ]
          },
          "metadata": {
            "tags": []
          },
          "execution_count": 1
        }
      ]
    },
    {
      "cell_type": "markdown",
      "metadata": {
        "id": "LoDdywDSa2kx",
        "colab_type": "text"
      },
      "source": [
        "** 1.2 Crash Course in Regular Expressions **\n",
        "\n",
        "Regular Expression are a great tool for NLP. They can be used interactively, or for rule-based searching and transformations in programs.\n",
        "\n",
        "If you are new to using regular expressions, or would like a quick refresher, you can study the examples and resulting output in the code cel below.\n",
        "\n",
        "Here is a cheat sheet for the SEARCH BASICS (code examples follow below):\n",
        "\n",
        "    Operator   Meaning       Example  Example meaning\n",
        "    \n",
        "    +          one or more   a+       look for 1 or more \"a\" characters\n",
        "    *          zero or more  a*       look for 0 or more \"a\" characters\n",
        "    ?          optional      a?       look for 0 or 1 \"a\" characters\n",
        "    []         choose 1      [abc]    look for \"a\" or \"b\" or \"c\"\n",
        "    [-]        range         [a-z]    look for any character between \"a\" and \"z\"\n",
        "    [^]        not           [^a]     look for character that is not \"a\"\n",
        "    ()         grouping      (a-z)+   look for one or more occurences of chars between \"a\" and \"z\"\n",
        "    (|)        or operator   (ey|ax)  look for strings \"ey\" or \"ax\"\n",
        "    \n",
        "    ab         follow        ab       look for character \"a\" followed by character \"b\"\n",
        "    ^          start         ^a       look for character \"a\" at start of string/line\n",
        "    $          end           a$       look for character \"a\" at end of string/line\n",
        "    \\s         whitespace    \\sa      look for whitespace character followed by \"a\"\n",
        "    .          any character a.b      look for \"a\" followed by any char followed by \"b\"\n",
        "\n",
        "Common Uses:\n",
        "    - re.search    finds first matching object\n",
        "    - re.findall   returns all matching objects\n",
        "    - re.sub       replaces matches with replacement string"
      ]
    },
    {
      "cell_type": "code",
      "metadata": {
        "id": "qkN22-Hha2ky",
        "colab_type": "code",
        "colab": {},
        "outputId": "577ceb65-467b-4b3a-b98f-8a9ec42538f6"
      },
      "source": [
        "# find all occurences of any character between \"a\" and \"z\"\n",
        "import re\n",
        "\n",
        "re.findall(\"[a-z]\", \"$34.33 cash.\")"
      ],
      "execution_count": 0,
      "outputs": [
        {
          "output_type": "execute_result",
          "data": {
            "text/plain": [
              "['c', 'a', 's', 'h']"
            ]
          },
          "metadata": {
            "tags": []
          },
          "execution_count": 2
        }
      ]
    },
    {
      "cell_type": "code",
      "metadata": {
        "id": "mJXVv2_ba2k4",
        "colab_type": "code",
        "colab": {},
        "outputId": "7b052fbd-006d-4984-99e1-7a4450edb3c1"
      },
      "source": [
        "# find all occurences of either \"name:\" or \"phone:\".... word\n",
        "re.findall(\"(name|phone):\", \"My name: Joe, my phone: (312)555-1212\")"
      ],
      "execution_count": 0,
      "outputs": [
        {
          "output_type": "execute_result",
          "data": {
            "text/plain": [
              "['name', 'phone']"
            ]
          },
          "metadata": {
            "tags": []
          },
          "execution_count": 3
        }
      ]
    },
    {
      "cell_type": "code",
      "metadata": {
        "id": "YpGWhF65a2k8",
        "colab_type": "code",
        "colab": {},
        "outputId": "9e64ec5c-c962-4b18-ab05-343616dfcaa0"
      },
      "source": [
        "# find \"lion\", \"lions\" or \"Lion\" or \"Lions\".............word with conditions\n",
        "re.findall(\"([Ll]ion)s?\", \"Give it to the Lions or the lion.\")"
      ],
      "execution_count": 0,
      "outputs": [
        {
          "output_type": "execute_result",
          "data": {
            "text/plain": [
              "['Lion', 'lion']"
            ]
          },
          "metadata": {
            "tags": []
          },
          "execution_count": 4
        }
      ]
    },
    {
      "cell_type": "code",
      "metadata": {
        "id": "72zLxB9-a2lB",
        "colab_type": "code",
        "colab": {},
        "outputId": "a1ff214b-cb3c-440b-9f1b-73de6927c977"
      },
      "source": [
        "# replace all lowercase letters with \"x\".................replacing(substitute given char with x)\n",
        "re.sub(\"[a-z]\", \"x\", \"Hey, I know this regex stuff...\")"
      ],
      "execution_count": 0,
      "outputs": [
        {
          "output_type": "execute_result",
          "data": {
            "text/plain": [
              "'Hxx, I xxxx xxxx xxxxx xxxxx...'"
            ]
          },
          "metadata": {
            "tags": []
          },
          "execution_count": 5
        }
      ]
    },
    {
      "cell_type": "markdown",
      "metadata": {
        "id": "iCDaVf61a2lH",
        "colab_type": "text"
      },
      "source": [
        "# 2. Text Processing\n",
        "\n",
        "This section introduces some of the tasks and techniques used to acquire, clean and normalize the text data.\n",
        "\n",
        "## 2.1 Data Acquisition\n",
        "\n",
        "Issues:\n",
        "\n",
        " * how do I find the data I need?\n",
        " * Is it already in digital form, or will it need OCR?\n",
        " * how much will it cost?\n",
        " * will it be updated/expanded over time? More costs?\n",
        " * (if CUSTOMER DATA), do I have the legal / privacy rights needed to use the data in the way I need for my application?\n",
        " * do I have the safeguards needed to securely store the data?"
      ]
    },
    {
      "cell_type": "code",
      "metadata": {
        "id": "PllrsnzMa2lJ",
        "colab_type": "code",
        "colab": {},
        "outputId": "f71d97e9-1d7d-4faf-ed54-fad4ad0c4973"
      },
      "source": [
        "import nltk\n",
        "\n",
        "# shows how to access one of the gutenberg books included in NLTK\n",
        "print(\"gutenberg book ids=\", nltk.corpus.gutenberg.fileids())"
      ],
      "execution_count": 0,
      "outputs": [
        {
          "output_type": "stream",
          "text": [
            "gutenberg book ids= ['austen-emma.txt', 'austen-persuasion.txt', 'austen-sense.txt', 'bible-kjv.txt', 'blake-poems.txt', 'bryant-stories.txt', 'burgess-busterbrown.txt', 'carroll-alice.txt', 'chesterton-ball.txt', 'chesterton-brown.txt', 'chesterton-thursday.txt', 'edgeworth-parents.txt', 'melville-moby_dick.txt', 'milton-paradise.txt', 'shakespeare-caesar.txt', 'shakespeare-hamlet.txt', 'shakespeare-macbeth.txt', 'whitman-leaves.txt']\n"
          ],
          "name": "stdout"
        }
      ]
    },
    {
      "cell_type": "code",
      "metadata": {
        "id": "9YZFzYW-a2lN",
        "colab_type": "code",
        "colab": {},
        "outputId": "f69506b6-f373-4662-b30a-f3418e614776"
      },
      "source": [
        "# load words from \"Alice in Wonderland\"\n",
        "\n",
        "alice = nltk.corpus.gutenberg.words(\"carroll-alice.txt\")\n",
        "print(\"len(alice)=\", len(alice))\n",
        "print(alice[:100])"
      ],
      "execution_count": 0,
      "outputs": [
        {
          "output_type": "stream",
          "text": [
            "len(alice)= 34110\n",
            "['[', 'Alice', \"'\", 's', 'Adventures', 'in', 'Wonderland', 'by', 'Lewis', 'Carroll', '1865', ']', 'CHAPTER', 'I', '.', 'Down', 'the', 'Rabbit', '-', 'Hole', 'Alice', 'was', 'beginning', 'to', 'get', 'very', 'tired', 'of', 'sitting', 'by', 'her', 'sister', 'on', 'the', 'bank', ',', 'and', 'of', 'having', 'nothing', 'to', 'do', ':', 'once', 'or', 'twice', 'she', 'had', 'peeped', 'into', 'the', 'book', 'her', 'sister', 'was', 'reading', ',', 'but', 'it', 'had', 'no', 'pictures', 'or', 'conversations', 'in', 'it', ',', \"'\", 'and', 'what', 'is', 'the', 'use', 'of', 'a', 'book', \",'\", 'thought', 'Alice', \"'\", 'without', 'pictures', 'or', 'conversation', \"?'\", 'So', 'she', 'was', 'considering', 'in', 'her', 'own', 'mind', '(', 'as', 'well', 'as', 'she', 'could', ',']\n"
          ],
          "name": "stdout"
        }
      ]
    },
    {
      "cell_type": "code",
      "metadata": {
        "id": "zHwpzHcHa2lR",
        "colab_type": "code",
        "colab": {},
        "outputId": "77250cfc-45f3-4170-ce83-86a77dfe6bc9"
      },
      "source": [
        "# load words from \"Monty Python and the Holy Grail\"\n",
        "\n",
        "grail = nltk.corpus.webtext.words(\"grail.txt\")\n",
        "print(\"len(grail)=\", len(grail))\n",
        "\n",
        "print(grail[:100])"
      ],
      "execution_count": 0,
      "outputs": [
        {
          "output_type": "stream",
          "text": [
            "len(grail)= 16967\n",
            "['SCENE', '1', ':', '[', 'wind', ']', '[', 'clop', 'clop', 'clop', ']', 'KING', 'ARTHUR', ':', 'Whoa', 'there', '!', '[', 'clop', 'clop', 'clop', ']', 'SOLDIER', '#', '1', ':', 'Halt', '!', 'Who', 'goes', 'there', '?', 'ARTHUR', ':', 'It', 'is', 'I', ',', 'Arthur', ',', 'son', 'of', 'Uther', 'Pendragon', ',', 'from', 'the', 'castle', 'of', 'Camelot', '.', 'King', 'of', 'the', 'Britons', ',', 'defeator', 'of', 'the', 'Saxons', ',', 'sovereign', 'of', 'all', 'England', '!', 'SOLDIER', '#', '1', ':', 'Pull', 'the', 'other', 'one', '!', 'ARTHUR', ':', 'I', 'am', ',', '...', 'and', 'this', 'is', 'my', 'trusty', 'servant', 'Patsy', '.', 'We', 'have', 'ridden', 'the', 'length', 'and', 'breadth', 'of', 'the', 'land', 'in']\n"
          ],
          "name": "stdout"
        }
      ]
    },
    {
      "cell_type": "markdown",
      "metadata": {
        "id": "dYJOxmKpa2lV",
        "colab_type": "text"
      },
      "source": [
        "## 2.2 Plain Text Extraction\n",
        "\n",
        "If your text data lives in a non-plain text file (WORD, POWERPOINT, PDF, HTML, etc.), you will need to use a \"filter\" to extract the plain text from the file.\n",
        "\n",
        "Python has a number of libraries to extract plain text from popular file formats, but they are take searching and supporting code to use.\n",
        "\n",
        "## 2.3 Word and Sentence Segmentation (Tokenization)\n",
        "\n",
        "Word Segmentation Issues:\n",
        "\n",
        " * Some languages don't white space characters\n",
        " * Words with hyphens or apostrophes (Who's at the drive-in?)\n",
        " * Numbers, currency, percentages, dates, times (04/01/2018, $55,000.00)\n",
        " * Ellipses, special characters\n",
        " \n",
        "Sentences Segmentation Issues:\n",
        "\n",
        " * Quoted speech within a sentence\n",
        " * Abbreviations with periods (The Ph.D. was D.O.A)\n",
        " \n",
        "Tokenization Techniques\n",
        "\n",
        " * Perl script (50 lines) with RegEx (Grefenstette, 1999)\n",
        " * maxmatch Algorithm:\n",
        " \n",
        "        themanranafterit  ->   the man ran after it\n",
        "        thetabledownthere ->   theta bled own there      (Palmer, 2000)"
      ]
    },
    {
      "cell_type": "code",
      "metadata": {
        "id": "U5ynaIjza2lY",
        "colab_type": "code",
        "colab": {},
        "outputId": "21392893-8e51-4a96-c425-f72de18a1ea4"
      },
      "source": [
        "# code example: simple version of maxmatch algorithm for tokenization (word segmentation)\n",
        "def tokenize(str, dict):\n",
        "    s = 0\n",
        "    words = []\n",
        "    \n",
        "    while (s < len(str)):\n",
        "        found = False\n",
        "        \n",
        "        # find biggest word in dict that matches str[s:xxx]\n",
        "        for word in dict:\n",
        "            lw = len(word)\n",
        "            if (str[s:s+lw] == word):\n",
        "                words.append(word)\n",
        "                s += lw\n",
        "                found = True\n",
        "                break\n",
        "        if (not found):\n",
        "            words.append(str[s])\n",
        "            s += 1\n",
        "    \n",
        "    print(words)\n",
        "    #return words\n",
        "\n",
        "# small dictionary of known words, longest words first\n",
        "dict = [\"before\", \"table\", \"theta\", \"after\", \"where\", \"there\", \"bled\", \"said\", \"lead\", \"man\", \"her\", \"own\", \"the\", \"ran\", \"it\"]\n",
        "\n",
        "# this algorighm is designed to work with languages that don't have whitespace characters\n",
        "# so simulate that in our test\n",
        "tokenize(\"themanranafterit\", dict)    # works!\n",
        "tokenize(\"thetabledownthere\", dict)   # fails!"
      ],
      "execution_count": 0,
      "outputs": [
        {
          "output_type": "stream",
          "text": [
            "['the', 'man', 'ran', 'after', 'it']\n",
            "['theta', 'bled', 'own', 'there']\n"
          ],
          "name": "stdout"
        }
      ]
    },
    {
      "cell_type": "code",
      "metadata": {
        "id": "Y244y4aca2ld",
        "colab_type": "code",
        "colab": {},
        "outputId": "8c57d5f2-dd46-4831-c94f-e1d27c2628d9"
      },
      "source": [
        "# NLTK example: WORD segmentation\n",
        "\n",
        "nltk.word_tokenize(\"the man, he ran after it's $3.23 dog on 03/23/2016.\")"
      ],
      "execution_count": 0,
      "outputs": [
        {
          "output_type": "execute_result",
          "data": {
            "text/plain": [
              "['the',\n",
              " 'man',\n",
              " ',',\n",
              " 'he',\n",
              " 'ran',\n",
              " 'after',\n",
              " 'it',\n",
              " \"'s\",\n",
              " '$',\n",
              " '3.23',\n",
              " 'dog',\n",
              " 'on',\n",
              " '03/23/2016',\n",
              " '.']"
            ]
          },
          "metadata": {
            "tags": []
          },
          "execution_count": 13
        }
      ]
    },
    {
      "cell_type": "code",
      "metadata": {
        "id": "l3ZjqfmTa2lh",
        "colab_type": "code",
        "colab": {},
        "outputId": "ba738da3-beff-4dbe-88df-b0daae253231"
      },
      "source": [
        "# NLTK example: SENTENCE segmentation\n",
        "\n",
        "nltk.sent_tokenize(\"the man ran after it. The table down there? Yes, down there!\")"
      ],
      "execution_count": 0,
      "outputs": [
        {
          "output_type": "execute_result",
          "data": {
            "text/plain": [
              "['the man ran after it.', 'The table down there?', 'Yes, down there!']"
            ]
          },
          "metadata": {
            "tags": []
          },
          "execution_count": 14
        }
      ]
    },
    {
      "cell_type": "markdown",
      "metadata": {
        "id": "CMI6DHiPa2ll",
        "colab_type": "text"
      },
      "source": [
        "## 2.4 Stopword Removal\n",
        "\n",
        "Stopwords are common words that are \"not interesting\" for the app/task at hand.\n",
        "\n",
        "Easy part - removing words that appear in list.\n",
        "\n",
        "Tricky part - what to use for stop words? App-dependent, Standard lists, high-frequency words in your text, ..."
      ]
    },
    {
      "cell_type": "code",
      "metadata": {
        "id": "rFP7fNgsa2lm",
        "colab_type": "code",
        "colab": {},
        "outputId": "465f5b11-2818-4772-e6a7-58c86b76f089"
      },
      "source": [
        "# code example: simple algorithm for removing stopwords\n",
        "stoppers = \"a is of the this\".split()\n",
        "\n",
        "def removeStopWords(stopWords, txt):\n",
        "    newtxt = ' '.join([word for word in txt.split() if word not in stopWords])\n",
        "    return newtxt\n",
        "\n",
        "removeStopWords(stoppers, \"this is a test of the stop word removal code.\")"
      ],
      "execution_count": 0,
      "outputs": [
        {
          "output_type": "execute_result",
          "data": {
            "text/plain": [
              "'test stop word removal code.'"
            ]
          },
          "metadata": {
            "tags": []
          },
          "execution_count": 15
        }
      ]
    },
    {
      "cell_type": "code",
      "metadata": {
        "id": "wMjYZOeVa2lr",
        "colab_type": "code",
        "colab": {},
        "outputId": "f79b29bd-d322-4f74-c21b-7a9c7eabe053"
      },
      "source": [
        "# NLTK example: removing stopwords\n",
        "from nltk.corpus import stopwords\n",
        "stops = stopwords.words(\"English\")\n",
        "\n",
        "print(\"len(stops)=\", len(stops))\n",
        "\n",
        "removeStopWords(stops, \"this is a test of the stop word removal code.\")"
      ],
      "execution_count": 0,
      "outputs": [
        {
          "output_type": "stream",
          "text": [
            "len(stops)= 179\n"
          ],
          "name": "stdout"
        },
        {
          "output_type": "execute_result",
          "data": {
            "text/plain": [
              "'test stop word removal code.'"
            ]
          },
          "metadata": {
            "tags": []
          },
          "execution_count": 16
        }
      ]
    },
    {
      "cell_type": "markdown",
      "metadata": {
        "id": "I9FBaaRVa2lw",
        "colab_type": "text"
      },
      "source": [
        "## 2.5 Case Removal\n",
        "\n",
        "Case removal is part of a larger task called Text Normalization, which includes:\n",
        "\n",
        " * case removal\n",
        " * stemming (covered in next section)\n",
        " \n",
        "Goal of Case removal - converting all text to, for example, lower case"
      ]
    },
    {
      "cell_type": "code",
      "metadata": {
        "id": "HRguBUpba2lx",
        "colab_type": "code",
        "colab": {},
        "outputId": "a25d6f7c-dda0-4fa5-a9f8-6c60adba4ea2"
      },
      "source": [
        "# code example: case removal\n",
        "str = 'The man ran after it. The table down there? Yes, down there!'\n",
        "str.lower()"
      ],
      "execution_count": 0,
      "outputs": [
        {
          "output_type": "execute_result",
          "data": {
            "text/plain": [
              "'the man ran after it. the table down there? yes, down there!'"
            ]
          },
          "metadata": {
            "tags": []
          },
          "execution_count": 17
        }
      ]
    },
    {
      "cell_type": "markdown",
      "metadata": {
        "id": "eSZRlHHla2l1",
        "colab_type": "text"
      },
      "source": [
        "## 2.6 Stemming\n",
        "\n",
        "Goal of Stemming: - stripping off endings and other pieces, called AFFIXES - for English, this is prefixes and suffixes.\n",
        "\n",
        "    - convert word to its base word, called the LEMMA / STEM (e.g., foxes -> fox)\n",
        "    \n",
        "Porter Stemmer\n",
        "\n",
        " * 100+ cascading \"rewrite\" rules\n",
        " * ational -> ate (e.g., relational -> relate)\n",
        " * ing -> (e.g., playing -> play)\n",
        " * sess -> ss (e.g., grasses -> grass)"
      ]
    },
    {
      "cell_type": "code",
      "metadata": {
        "id": "1mHWRuSga2l3",
        "colab_type": "code",
        "colab": {},
        "outputId": "17a5dd2f-b9f2-4bc3-a2f7-002a5e9d6b12"
      },
      "source": [
        "# NLTK example: stemming\n",
        "\n",
        "def stem_with_porter(words):\n",
        "    porter = nltk.PorterStemmer()\n",
        "    new_words = [porter.stem(w) for w in words]\n",
        "    return new_words\n",
        "\n",
        "def stem_with_lancaster(words):\n",
        "    porter = nltk.LancasterStemmer()\n",
        "    new_words = [porter.stem(w) for w in words]\n",
        "    return new_words\n",
        "\n",
        "str = \"Please don't unbuckle your seat-belt while I am driving, he said\"\n",
        "\n",
        "print(\"porter:\", stem_with_porter(str.split()))\n",
        "print()\n",
        "print(\"lancaster:\", stem_with_lancaster(str.split()))"
      ],
      "execution_count": 0,
      "outputs": [
        {
          "output_type": "stream",
          "text": [
            "porter: ['pleas', \"don't\", 'unbuckl', 'your', 'seat-belt', 'while', 'I', 'am', 'driving,', 'he', 'said']\n",
            "\n",
            "lancaster: ['pleas', \"don't\", 'unbuckl', 'yo', 'seat-belt', 'whil', 'i', 'am', 'driving,', 'he', 'said']\n"
          ],
          "name": "stdout"
        }
      ]
    },
    {
      "cell_type": "markdown",
      "metadata": {
        "id": "4CTPKrjOa2l7",
        "colab_type": "text"
      },
      "source": [
        "# 3. Text Exploration\n",
        "\n",
        "## 3.1 Frequency Analysis\n",
        "\n",
        " * Frequency Analysis\n",
        " * Letter\n",
        " * Word\n",
        " * Bigrams\n",
        " * Plots"
      ]
    },
    {
      "cell_type": "code",
      "metadata": {
        "id": "VgM4TG7Ma2l8",
        "colab_type": "code",
        "colab": {},
        "outputId": "ce71aa56-e1ac-46be-ff7a-b946db90bfd8"
      },
      "source": [
        "# NLTK example: frequence analysis\n",
        "import nltk\n",
        "from nltk.corpus import gutenberg\n",
        "from nltk.probability import FreqDist\n",
        "\n",
        "# get raw text from \"Sense and Sensibility\" by Jane Austen\n",
        "raw = gutenberg.raw(\"austen-sense.txt\")\n",
        "fd_letters = FreqDist(raw)\n",
        "\n",
        "words = gutenberg.words(\"austen-sense.txt\")\n",
        "fd_words = FreqDist(words)\n",
        "sas = nltk.Text(words)\n"
      ],
      "execution_count": 0,
      "outputs": [
        {
          "output_type": "display_data",
          "data": {
            "text/plain": [
              "<matplotlib.figure.Figure at 0x8c7e3b0>"
            ]
          },
          "metadata": {
            "tags": []
          }
        }
      ]
    },
    {
      "cell_type": "code",
      "metadata": {
        "id": "LNvKo4Jfa2mA",
        "colab_type": "code",
        "colab": {},
        "outputId": "a91ca66d-7c61-45d1-aeb7-96a8954111e1"
      },
      "source": [
        "\n",
        "# these 2 lines let us size the freq dist plot\n",
        "import matplotlib.pyplot as plt\n",
        "plt.figure(figsize=(20,5))\n",
        "# frequency plot for letters from SAS\n",
        "fd_letters.plot(100)\n",
        "\n",
        "# these 2 lines let us size the freq dist plot\n",
        "import matplotlib.pyplot as plt\n",
        "plt.figure(figsize=(20,5))\n",
        "# frequency plot for words from SAS\n",
        "fd_words.plot(50)\n"
      ],
      "execution_count": 0,
      "outputs": [
        {
          "output_type": "display_data",
          "data": {
            "image/png": "[encoded data removed]",
            "text/plain": [
              "<matplotlib.figure.Figure at 0xc012b70>"
            ]
          },
          "metadata": {
            "tags": []
          }
        },
        {
          "output_type": "display_data",
          "data": {
            "image/png": "[encoded data removed]",
            "text/plain": [
              "<matplotlib.figure.Figure at 0xb3fd270>"
            ]
          },
          "metadata": {
            "tags": []
          }
        }
      ]
    },
    {
      "cell_type": "markdown",
      "metadata": {
        "id": "UaeOGYCGa2mG",
        "colab_type": "text"
      },
      "source": [
        "## 3.2 Collocations\n",
        "\n",
        "These are interesting word pairs, usually formed by the most common bigrams. Bigrams are collections of word pairs that occur together in the text."
      ]
    },
    {
      "cell_type": "code",
      "metadata": {
        "id": "DD3hgwM4a2mH",
        "colab_type": "code",
        "colab": {},
        "outputId": "0454fc71-f0b5-4727-e248-855a67df26c9"
      },
      "source": [
        "# Let's look at collocations for our \"Sense and Sensibility\" text\n",
        "sas.collocations()"
      ],
      "execution_count": 0,
      "outputs": [
        {
          "output_type": "stream",
          "text": [
            "Colonel Brandon; Sir John; Lady Middleton; Miss Dashwood; every thing;\n",
            "thousand pounds; dare say; Miss Steeles; said Elinor; Miss Steele;\n",
            "every body; John Dashwood; great deal; Harley Street; Berkeley Street;\n",
            "Miss Dashwoods; young man; Combe Magna; every day; next morning\n"
          ],
          "name": "stdout"
        }
      ]
    },
    {
      "cell_type": "markdown",
      "metadata": {
        "id": "keowPRUIa2mN",
        "colab_type": "text"
      },
      "source": [
        "Nice!\n",
        "\n",
        "Now we are getting a feel for the language and subjects of the text."
      ]
    },
    {
      "cell_type": "markdown",
      "metadata": {
        "id": "2UJ7fhu5a2mO",
        "colab_type": "text"
      },
      "source": [
        "** 3.3 Long words **\n",
        "\n",
        "Sometimes looking at the long words in a text can be revealing. Let's try it on sas."
      ]
    },
    {
      "cell_type": "code",
      "metadata": {
        "id": "AjD8QLs5a2mP",
        "colab_type": "code",
        "colab": {},
        "outputId": "cbcc131f-17f4-43ea-f2ba-29f16d761df8"
      },
      "source": [
        "# Let's look at long wods in the text\n",
        "longWords = [w for w in set(words) if len(w) > 13]\n",
        "longWords[:15]"
      ],
      "execution_count": 0,
      "outputs": [
        {
          "output_type": "execute_result",
          "data": {
            "text/plain": [
              "['inconsiderable',\n",
              " 'thoughtfulness',\n",
              " 'connoisseurship',\n",
              " 'unpleasantness',\n",
              " 'irreproachable',\n",
              " 'correspondence',\n",
              " 'unintelligible',\n",
              " 'dissatisfaction',\n",
              " 'incautiousness',\n",
              " 'unexhilarating',\n",
              " 'insurmountable',\n",
              " 'disapprobation',\n",
              " 'accommodations',\n",
              " 'inconveniences',\n",
              " 'insignificance']"
            ]
          },
          "metadata": {
            "tags": []
          },
          "execution_count": 26
        }
      ]
    },
    {
      "cell_type": "markdown",
      "metadata": {
        "id": "T8FYCBfca2mS",
        "colab_type": "text"
      },
      "source": [
        "## 3.3 Concordance Views\n",
        "\n",
        "Concordance views, also called Keywords in Context (KWIC), show the specified word with the words that surround it in text. These views can be helpful in understanding how the words are being used in the text."
      ]
    },
    {
      "cell_type": "code",
      "metadata": {
        "id": "La4jf0XRa2mT",
        "colab_type": "code",
        "colab": {},
        "outputId": "c4393d32-c5f7-4da4-aa3c-80dc51927d4a"
      },
      "source": [
        "# Let's try looking at some of these recent words in a Concordance view\n",
        "sas.concordance(\"affectionately\")\n",
        "print()\n",
        "\n",
        "sas.concordance(\"correspondence\")\n",
        "print()\n",
        "\n",
        "sas.concordance(\"dare\")\n",
        "print()"
      ],
      "execution_count": 0,
      "outputs": [
        {
          "output_type": "stream",
          "text": [
            "Displaying 2 of 2 matches:\n",
            " before . She took them all most affectionately by the hand , and expressed grea\n",
            "bed , took her hand , kissed her affectionately several times , and then gave wa\n",
            "\n",
            "Displaying 4 of 4 matches:\n",
            "could not be maintained if their correspondence were to pass through Sir John ' \n",
            "ave been Edward ' s gift ; but a correspondence between them by letter , could s\n",
            " she had no doubt , and of their correspondence she was not astonished to hear .\n",
            "ce of Edward afforded her by the correspondence , for his name was not even ment\n",
            "\n",
            "Displaying 25 of 25 matches:\n",
            "d not know what he was talking of , I dare say ; ten to one but he was light - h\n",
            "ll . The assistance he thought of , I dare say , was only such as might be reaso\n",
            "ng , if I have plenty of money , as I dare say I shall , we may think about buil\n",
            " , you will make conquests enough , I dare say , one way or other . Poor Brandon\n",
            "re . He is the curate of the parish I dare say .\" \" No , THAT he is not . He is \n",
            "em . He was afraid of catching cold I dare say , and invented this trick for get\n",
            "ave it in my power to return , that I dare not engage for it at all .\" \" Oh ! he\n",
            " and as like him as she can stare . I dare say the Colonel will leave her all hi\n",
            "ut Miss Williams and , by the bye , I dare say it is , because he looked so cons\n",
            ", \" are of such a nature -- that -- I dare not flatter myself \"-- He stopt . Mrs\n",
            "and MY wealth are very much alike , I dare say ; and without them , as the world\n",
            "t unites beauty with utility -- and I dare say it is a picturesque one too , bec\n",
            " , you know . Not above ten miles , I dare say .\" \" Much nearer thirty ,\" said h\n",
            "th my uncle at Weymouth . However , I dare say we should have seen a great deal \n",
            "ut if mama had not objected to it , I dare say he would have liked it of all thi\n",
            "will think my question an odd one , I dare say ,\" said Lucy to her one day , as \n",
            " an inquiry into her character .\" \" I dare say you are , and I am sure I do not \n",
            "have had no idea of it before ; for I dare say he never dropped the smallest hin\n",
            "for she would never approve of it , I dare say . I shall have no fortune , and I\n",
            "n to Elinor . \" You know his hand , I dare say , a charming one it is ; but that\n",
            "so well as usual .-- He was tired , I dare say , for he had just filled the shee\n",
            " talking of their favourite beaux , I dare say .\" \" No sister ,\" cried Lucy , \" \n",
            "ing significantly round at them , \" I dare say Lucy ' s beau is quite as modest \n",
            "t , for you are a party concerned . I dare say you have seen enough of Edward to\n",
            "ch pleasure to meet you there ! But I dare say you will go for all that . To be \n",
            "\n"
          ],
          "name": "stdout"
        }
      ]
    },
    {
      "cell_type": "markdown",
      "metadata": {
        "id": "FZoRw03Fa2mW",
        "colab_type": "text"
      },
      "source": [
        "## 3.4 Other Exploration Task/Views"
      ]
    },
    {
      "cell_type": "code",
      "metadata": {
        "id": "qs-3xPvYa2mY",
        "colab_type": "code",
        "colab": {},
        "outputId": "b0946ccc-1ae0-4fb6-cea3-edb5d49394bf"
      },
      "source": [
        "# look at words similar to a word\n",
        "sas.similar(\"affection\")"
      ],
      "execution_count": 0,
      "outputs": [
        {
          "output_type": "stream",
          "text": [
            "attention time regard mother love heart opinion sister wishes wife\n",
            "arrival marianne kindness family it marriage sisters sake conduct mind\n"
          ],
          "name": "stdout"
        }
      ]
    },
    {
      "cell_type": "code",
      "metadata": {
        "id": "RfloukLja2mc",
        "colab_type": "code",
        "colab": {},
        "outputId": "1c467d1d-8fb5-478b-a26e-742c5578ad46"
      },
      "source": [
        "# these 2 lines let us size the freq dist plot\n",
        "import matplotlib.pyplot as plt\n",
        "plt.figure(figsize=(15,4))\n",
        "\n",
        "# look at words as they appear over time in the book/document\n",
        "sas.dispersion_plot([\"sense\", \"love\", \"heart\", \"listen\", \"man\", \"woman\"])"
      ],
      "execution_count": 0,
      "outputs": [
        {
          "output_type": "display_data",
          "data": {
            "image/png": "[encoded data removed]",
            "text/plain": [
              "<matplotlib.figure.Figure at 0xf7ffc90>"
            ]
          },
          "metadata": {
            "tags": []
          }
        }
      ]
    },
    {
      "cell_type": "markdown",
      "metadata": {
        "id": "McVyvO1sa2mf",
        "colab_type": "text"
      },
      "source": [
        "# 4. Building Features\n",
        "\n",
        "## 4.1 Bag-of-Words (BOW)\n",
        "\n",
        "One of the simplest features when dealing with multiple texts (like multiple documents, or multiple sentences within a document), is called Bag-of-Words. It builds a vocabular from each word in the set of texts, and then a feature for each word, indicate the presence/absence of that word within each text. Sometimes, the count of the word is used in place of a presence flag.\n",
        "\n",
        "A common way to represent a set of features like this is called a One-Hot vector. For example, lets say our vocabular from our set of texts is:\n",
        "\n",
        "```\n",
        "  today, here, I, a, fine, sun, moon, bird, saw\n",
        "```\n",
        "\n",
        "The sentence we want to build a BOW for is:\n",
        "\n",
        "```\n",
        "  I saw a bird today.\n",
        "```\n",
        "\n",
        "Using a 1/0 for each word in the vocabulary, our BOW encoded as a one-hot vector would be:\n",
        "\n",
        "```\n",
        "  1 0 1 1 0 0 1 1\n",
        "```\n"
      ]
    },
    {
      "cell_type": "markdown",
      "metadata": {
        "id": "jcE16tMla2mg",
        "colab_type": "text"
      },
      "source": [
        "## 4.2 N-Grams\n",
        "\n",
        "N-grams represent the sequence of N words that are found in a text. They are commonly used as a model of the text language since they represent the frequence of words/phrases appearing in the text.\n",
        "\n",
        "Common types of N-grams:\n",
        "\n",
        " * unigrams - these are the set of single words appearing in the text\n",
        " * bigrams - these are the set of word pairs, like \"good day\" or \"big deal\", from the text\n",
        " * trigrams - these are the set of word triples, like \"really good food\", from the text\n",
        " \n",
        "To build bigrams for a text, you need to extract all possible word pairs from the text and count how many times each pair occurs. Then, you can use the top N words (1000), or the top percent (50%) as your language model."
      ]
    },
    {
      "cell_type": "markdown",
      "metadata": {
        "id": "2GEK4Izwa2mh",
        "colab_type": "text"
      },
      "source": [
        "## 4.3 Morphological Parsing\n",
        "\n",
        "** Goal **: convert input word into its morphological parts. For example: \"geese\" would return goose + N + PL\n",
        "\n",
        "Morphological Parsing: geese -> goose + N + PL, \n",
        "caught -> catch + V + PastPart\n",
        "\n",
        "Morphological parsing is related to stemming, but instead of mapping the word variants to a stem word, it labels the stem word and its affixes.\n",
        "\n",
        "Morphological parsing, even for English, is quite involved."
      ]
    },
    {
      "cell_type": "markdown",
      "metadata": {
        "id": "6QUQ0bfDa2mi",
        "colab_type": "text"
      },
      "source": [
        "## 4.4 TD/IDF\n",
        "\n",
        "TD/IDF stands for Term Document Inverse Document Frequency. \"Term\" here can be thought of as a word. This is a measure of the relative importance of a word within a document, in the context of multiple documents.\n",
        "\n",
        "We start with the TD part - this is simply a normalized frequency of the word in the document:\n",
        "\n",
        " * (word count in document) / (total words in document)\n",
        " \n",
        "The IDF is a weighting of the uniquess of the word across all of the documents. Here is the complete formula of TD/IDF:\n",
        "\n",
        "* td_idf(t,d) = wc(t,d)/wc(d) / dc(t)/dc()\n",
        "\n",
        "Where:\n",
        "* wc(t,d)=# of occurences of term t in doc d\n",
        "* wc(d)  =# of words in doc d\n",
        "* dc(t)  =# of docs that contains at least 1 occurence of term t\n",
        "* dc()   =# of docs in collection"
      ]
    },
    {
      "cell_type": "markdown",
      "metadata": {
        "id": "nA9RTCfSa2mj",
        "colab_type": "text"
      },
      "source": [
        "# 5. Classical NLP Applications\n",
        "\n",
        "## 5.1 Name Gender Classifier"
      ]
    },
    {
      "cell_type": "code",
      "metadata": {
        "id": "unSJPPjna2mk",
        "colab_type": "code",
        "colab": {},
        "outputId": "a66491d0-ad3c-4e78-cef8-170331f781f5"
      },
      "source": [
        "# code to build a classifier to classify names as male or female\n",
        "# demonstrates the basics of feature extraction and model building\n",
        "import nltk\n",
        "\n",
        "names = [(name, 'male') for name in nltk.corpus.names.words(\"male.txt\")]\n",
        "names += [(name, 'female') for name in nltk.corpus.names.words(\"female.txt\")]\n",
        "\n",
        "def extract_gender_features(name):\n",
        "    name = name.lower()\n",
        "    features = {}\n",
        "    features[\"suffix\"] = name[-1:]\n",
        "    features[\"suffix2\"] = name[-2:] if len(name) > 1 else name[0]\n",
        "    features[\"suffix3\"] = name[-3:] if len(name) > 2 else name[0]\n",
        "    features[\"prefix\"] = name[:1]\n",
        "    features[\"prefix2\"] = name[:2] if len(name) > 1 else name[0]\n",
        "    features[\"prefix3\"] = name[:3] if len(name) > 2 else name[0]\n",
        "    features[\"prefix4\"] = name[:4] if len(name) > 3 else name[0]\n",
        "    features[\"prefix5\"] = name[:5] if len(name) > 4 else name[0]\n",
        "    #features[\"wordLen\"] = len(name)\n",
        "\n",
        "    #for letter in \"abcdefghijklmnopqrstuvwxyz\":\n",
        "    #    features[letter + \"-count\"] = name.count(letter)\n",
        "    \n",
        "    return features\n",
        "\n",
        "data = [(extract_gender_features(name), gender) for (name, gender) in names]\n",
        "\n",
        "import random\n",
        "random.shuffle(data)\n",
        "\n",
        "#print(data[:10])\n",
        "#print()\n",
        "#print(data[-10:])\n",
        "\n",
        "dataCount = len(data)\n",
        "trainCount = int(.8*dataCount)#80%\n",
        "\n",
        "trainData = data[:trainCount]\n",
        "testData = data[trainCount:]\n",
        "bayes = nltk.NaiveBayesClassifier.train(trainData)\n",
        "\n",
        "def classify(name):\n",
        "    label = bayes.classify(extract_gender_features(name))\n",
        "    print(\"name=\", name, \"classified as=\", label)\n",
        "    \n",
        "print(\"trainData accuracy=\", nltk.classify.accuracy(bayes, trainData))\n",
        "print(\"testData accuracy=\", nltk.classify.accuracy(bayes, testData))\n",
        "\n",
        "classify(\"david\")\n",
        "classify(\"susan\")\n",
        "classify(\"alex\")\n",
        "\n",
        "bayes.show_most_informative_features(25)"
      ],
      "execution_count": 0,
      "outputs": [
        {
          "output_type": "stream",
          "text": [
            "[({'suffix': 'y', 'suffix2': 'ny', 'suffix3': 'nny', 'prefix': 'l', 'prefix2': 'la', 'prefix3': 'lan', 'prefix4': 'lann', 'prefix5': 'lanny'}, 'male'), ({'suffix': 't', 'suffix2': 'et', 'suffix3': 'het', 'prefix': 'c', 'prefix2': 'ch', 'prefix3': 'che', 'prefix4': 'chet', 'prefix5': 'c'}, 'male'), ({'suffix': 'y', 'suffix2': 'by', 'suffix3': 'oby', 'prefix': 'r', 'prefix2': 'ro', 'prefix3': 'rob', 'prefix4': 'roby', 'prefix5': 'r'}, 'female'), ({'suffix': 'e', 'suffix2': 'le', 'suffix3': 'lle', 'prefix': 'g', 'prefix2': 'ga', 'prefix3': 'gab', 'prefix4': 'gabr', 'prefix5': 'gabri'}, 'female'), ({'suffix': 'l', 'suffix2': 'il', 'suffix3': 'hil', 'prefix': 'p', 'prefix2': 'ph', 'prefix3': 'phi', 'prefix4': 'phil', 'prefix5': 'p'}, 'female'), ({'suffix': 'n', 'suffix2': 'wn', 'suffix3': 'awn', 'prefix': 'd', 'prefix2': 'da', 'prefix3': 'daw', 'prefix4': 'dawn', 'prefix5': 'd'}, 'female'), ({'suffix': 'a', 'suffix2': 'ia', 'suffix3': 'dia', 'prefix': 'c', 'prefix2': 'co', 'prefix3': 'con', 'prefix4': 'conc', 'prefix5': 'conco'}, 'female'), ({'suffix': 'n', 'suffix2': 'an', 'suffix3': 'ian', 'prefix': 'd', 'prefix2': 'da', 'prefix3': 'dar', 'prefix4': 'dari', 'prefix5': 'daria'}, 'male'), ({'suffix': 'n', 'suffix2': 'en', 'suffix3': 'ten', 'prefix': 'm', 'prefix2': 'ma', 'prefix3': 'mar', 'prefix4': 'mart', 'prefix5': 'marte'}, 'male'), ({'suffix': 'n', 'suffix2': 'in', 'suffix3': 'vin', 'prefix': 'm', 'prefix2': 'ma', 'prefix3': 'mar', 'prefix4': 'marv', 'prefix5': 'marvi'}, 'male')]\n",
            "trainData accuracy= 0.9216365066876475\n",
            "testData accuracy= 0.8596601636249214\n",
            "name= david classified as= male\n",
            "name= susan classified as= female\n",
            "name= alex classified as= male\n",
            "Most Informative Features\n",
            "                 suffix2 = 'na'           female : male   =     83.8 : 1.0\n",
            "                 suffix2 = 'la'           female : male   =     65.1 : 1.0\n",
            "                 suffix2 = 'ia'           female : male   =     49.9 : 1.0\n",
            "                 suffix3 = 'ard'            male : female =     41.7 : 1.0\n",
            "                  suffix = 'k'              male : female =     36.8 : 1.0\n",
            "                 suffix2 = 'rd'             male : female =     36.7 : 1.0\n",
            "                  suffix = 'a'            female : male   =     34.0 : 1.0\n",
            "                 suffix2 = 'sa'           female : male   =     29.2 : 1.0\n",
            "                 suffix2 = 'ta'           female : male   =     27.0 : 1.0\n",
            "                 suffix3 = 'ana'          female : male   =     24.0 : 1.0\n",
            "                 suffix2 = 'ra'           female : male   =     23.7 : 1.0\n",
            "                 suffix2 = 'us'             male : female =     22.9 : 1.0\n",
            "                 prefix3 = 'gar'            male : female =     21.2 : 1.0\n",
            "                 suffix3 = 'ter'            male : female =     21.1 : 1.0\n",
            "                 suffix2 = 'rt'             male : female =     21.0 : 1.0\n",
            "                 suffix2 = 'os'             male : female =     19.3 : 1.0\n",
            "                 suffix2 = 'ld'             male : female =     18.2 : 1.0\n",
            "                 prefix2 = 'hu'             male : female =     17.1 : 1.0\n",
            "                 suffix3 = 'nne'          female : male   =     16.5 : 1.0\n",
            "                 prefix3 = 'ros'          female : male   =     15.7 : 1.0\n",
            "                 suffix3 = 'vin'            male : female =     14.9 : 1.0\n",
            "                 suffix2 = 'io'             male : female =     14.9 : 1.0\n",
            "                 suffix3 = 'son'            male : female =     14.3 : 1.0\n",
            "                 suffix3 = 'old'            male : female =     13.9 : 1.0\n",
            "                 suffix3 = 'ita'          female : male   =     13.9 : 1.0\n"
          ],
          "name": "stdout"
        }
      ]
    },
    {
      "cell_type": "code",
      "metadata": {
        "id": "8oRxptmMa2mo",
        "colab_type": "code",
        "colab": {},
        "outputId": "63d2e53f-f550-4f07-d439-7f89d310064a"
      },
      "source": [
        "# print gender classifier errors so we can design new features to identify the cases\n",
        "errors = []\n",
        "\n",
        "for (name,label) in names:\n",
        "    if bayes.classify(extract_gender_features(name)) != label:\n",
        "        errors.append({\"name\": name, \"label\": label})\n",
        "        \n",
        "errors"
      ],
      "execution_count": 0,
      "outputs": [
        {
          "output_type": "execute_result",
          "data": {
            "text/plain": [
              "[{'name': 'Abbey', 'label': 'male'},\n",
              " {'name': 'Abbie', 'label': 'male'},\n",
              " {'name': 'Addie', 'label': 'male'},\n",
              " {'name': 'Aditya', 'label': 'male'},\n",
              " {'name': 'Ali', 'label': 'male'},\n",
              " {'name': 'Alix', 'label': 'male'},\n",
              " {'name': 'Allie', 'label': 'male'},\n",
              " {'name': 'Allyn', 'label': 'male'},\n",
              " {'name': 'Andie', 'label': 'male'},\n",
              " {'name': 'Andrea', 'label': 'male'},\n",
              " {'name': 'Andri', 'label': 'male'},\n",
              " {'name': 'Andy', 'label': 'male'},\n",
              " {'name': 'Angie', 'label': 'male'},\n",
              " {'name': 'Antoine', 'label': 'male'},\n",
              " {'name': 'Antone', 'label': 'male'},\n",
              " {'name': 'Antoni', 'label': 'male'},\n",
              " {'name': 'Ari', 'label': 'male'},\n",
              " {'name': 'Arie', 'label': 'male'},\n",
              " {'name': 'Ashley', 'label': 'male'},\n",
              " {'name': 'Augustine', 'label': 'male'},\n",
              " {'name': 'Avi', 'label': 'male'},\n",
              " {'name': 'Bealle', 'label': 'male'},\n",
              " {'name': 'Bela', 'label': 'male'},\n",
              " {'name': 'Bennie', 'label': 'male'},\n",
              " {'name': 'Bernie', 'label': 'male'},\n",
              " {'name': 'Bertie', 'label': 'male'},\n",
              " {'name': 'Billie', 'label': 'male'},\n",
              " {'name': 'Blaine', 'label': 'male'},\n",
              " {'name': 'Blake', 'label': 'male'},\n",
              " {'name': 'Blayne', 'label': 'male'},\n",
              " {'name': 'Bobbie', 'label': 'male'},\n",
              " {'name': 'Boniface', 'label': 'male'},\n",
              " {'name': 'Brandy', 'label': 'male'},\n",
              " {'name': 'Britt', 'label': 'male'},\n",
              " {'name': 'Bruce', 'label': 'male'},\n",
              " {'name': 'Bryn', 'label': 'male'},\n",
              " {'name': 'Cammy', 'label': 'male'},\n",
              " {'name': 'Carey', 'label': 'male'},\n",
              " {'name': 'Carl', 'label': 'male'},\n",
              " {'name': 'Carleigh', 'label': 'male'},\n",
              " {'name': 'Carlie', 'label': 'male'},\n",
              " {'name': 'Carlin', 'label': 'male'},\n",
              " {'name': 'Carlyle', 'label': 'male'},\n",
              " {'name': 'Carmine', 'label': 'male'},\n",
              " {'name': 'Carroll', 'label': 'male'},\n",
              " {'name': 'Cary', 'label': 'male'},\n",
              " {'name': 'Caryl', 'label': 'male'},\n",
              " {'name': 'Case', 'label': 'male'},\n",
              " {'name': 'Casey', 'label': 'male'},\n",
              " {'name': 'Cass', 'label': 'male'},\n",
              " {'name': 'Cat', 'label': 'male'},\n",
              " {'name': 'Cecil', 'label': 'male'},\n",
              " {'name': 'Chane', 'label': 'male'},\n",
              " {'name': 'Charley', 'label': 'male'},\n",
              " {'name': 'Charlie', 'label': 'male'},\n",
              " {'name': 'Che', 'label': 'male'},\n",
              " {'name': 'Chris', 'label': 'male'},\n",
              " {'name': 'Chrissy', 'label': 'male'},\n",
              " {'name': 'Christie', 'label': 'male'},\n",
              " {'name': 'Christophe', 'label': 'male'},\n",
              " {'name': 'Christy', 'label': 'male'},\n",
              " {'name': 'Chrisy', 'label': 'male'},\n",
              " {'name': 'Claire', 'label': 'male'},\n",
              " {'name': 'Clarance', 'label': 'male'},\n",
              " {'name': 'Clare', 'label': 'male'},\n",
              " {'name': 'Clarence', 'label': 'male'},\n",
              " {'name': 'Claude', 'label': 'male'},\n",
              " {'name': 'Clemente', 'label': 'male'},\n",
              " {'name': 'Clemmie', 'label': 'male'},\n",
              " {'name': 'Cody', 'label': 'male'},\n",
              " {'name': 'Cole', 'label': 'male'},\n",
              " {'name': 'Connie', 'label': 'male'},\n",
              " {'name': 'Connolly', 'label': 'male'},\n",
              " {'name': 'Constantin', 'label': 'male'},\n",
              " {'name': 'Constantine', 'label': 'male'},\n",
              " {'name': 'Corey', 'label': 'male'},\n",
              " {'name': 'Cornellis', 'label': 'male'},\n",
              " {'name': 'Corrie', 'label': 'male'},\n",
              " {'name': 'Cortese', 'label': 'male'},\n",
              " {'name': 'Costa', 'label': 'male'},\n",
              " {'name': 'Courtney', 'label': 'male'},\n",
              " {'name': 'Cris', 'label': 'male'},\n",
              " {'name': 'Cristopher', 'label': 'male'},\n",
              " {'name': 'Dale', 'label': 'male'},\n",
              " {'name': 'Dana', 'label': 'male'},\n",
              " {'name': 'Dane', 'label': 'male'},\n",
              " {'name': 'Dani', 'label': 'male'},\n",
              " {'name': 'Danie', 'label': 'male'},\n",
              " {'name': 'Daniel', 'label': 'male'},\n",
              " {'name': 'Dannie', 'label': 'male'},\n",
              " {'name': 'Danny', 'label': 'male'},\n",
              " {'name': 'Dante', 'label': 'male'},\n",
              " {'name': 'Daren', 'label': 'male'},\n",
              " {'name': 'Daryl', 'label': 'male'},\n",
              " {'name': 'Daryle', 'label': 'male'},\n",
              " {'name': 'Dean', 'label': 'male'},\n",
              " {'name': 'Deane', 'label': 'male'},\n",
              " {'name': 'Del', 'label': 'male'},\n",
              " {'name': 'Dell', 'label': 'male'},\n",
              " {'name': 'Dennie', 'label': 'male'},\n",
              " {'name': 'Dennis', 'label': 'male'},\n",
              " {'name': 'Denny', 'label': 'male'},\n",
              " {'name': 'Devin', 'label': 'male'},\n",
              " {'name': 'Donn', 'label': 'male'},\n",
              " {'name': 'Donnie', 'label': 'male'},\n",
              " {'name': 'Donny', 'label': 'male'},\n",
              " {'name': 'Dorian', 'label': 'male'},\n",
              " {'name': 'Dory', 'label': 'male'},\n",
              " {'name': 'Eddie', 'label': 'male'},\n",
              " {'name': 'Edie', 'label': 'male'},\n",
              " {'name': 'Eli', 'label': 'male'},\n",
              " {'name': 'Elisha', 'label': 'male'},\n",
              " {'name': 'Ely', 'label': 'male'},\n",
              " {'name': 'Emile', 'label': 'male'},\n",
              " {'name': 'Emmy', 'label': 'male'},\n",
              " {'name': 'Erin', 'label': 'male'},\n",
              " {'name': 'Esme', 'label': 'male'},\n",
              " {'name': 'Etienne', 'label': 'male'},\n",
              " {'name': 'Eugene', 'label': 'male'},\n",
              " {'name': 'Eustace', 'label': 'male'},\n",
              " {'name': 'Evan', 'label': 'male'},\n",
              " {'name': 'Evelyn', 'label': 'male'},\n",
              " {'name': 'Ezra', 'label': 'male'},\n",
              " {'name': 'Felice', 'label': 'male'},\n",
              " {'name': 'Felix', 'label': 'male'},\n",
              " {'name': 'Ferdie', 'label': 'male'},\n",
              " {'name': 'Fidel', 'label': 'male'},\n",
              " {'name': 'Florian', 'label': 'male'},\n",
              " {'name': 'Franklyn', 'label': 'male'},\n",
              " {'name': 'Freddie', 'label': 'male'},\n",
              " {'name': 'Freddy', 'label': 'male'},\n",
              " {'name': 'Gabriele', 'label': 'male'},\n",
              " {'name': 'Garcia', 'label': 'male'},\n",
              " {'name': 'Gayle', 'label': 'male'},\n",
              " {'name': 'Gene', 'label': 'male'},\n",
              " {'name': 'Georg', 'label': 'male'},\n",
              " {'name': 'George', 'label': 'male'},\n",
              " {'name': 'Georgia', 'label': 'male'},\n",
              " {'name': 'Georgie', 'label': 'male'},\n",
              " {'name': 'Georgy', 'label': 'male'},\n",
              " {'name': 'Geri', 'label': 'male'},\n",
              " {'name': 'Germaine', 'label': 'male'},\n",
              " {'name': 'Gerri', 'label': 'male'},\n",
              " {'name': 'Giavani', 'label': 'male'},\n",
              " {'name': 'Giovanne', 'label': 'male'},\n",
              " {'name': 'Giovanni', 'label': 'male'},\n",
              " {'name': 'Glen', 'label': 'male'},\n",
              " {'name': 'Glenn', 'label': 'male'},\n",
              " {'name': 'Glynn', 'label': 'male'},\n",
              " {'name': 'Henrie', 'label': 'male'},\n",
              " {'name': 'Holly', 'label': 'male'},\n",
              " {'name': 'Ira', 'label': 'male'},\n",
              " {'name': 'Isa', 'label': 'male'},\n",
              " {'name': 'Isadore', 'label': 'male'},\n",
              " {'name': 'Isidore', 'label': 'male'},\n",
              " {'name': 'Jackie', 'label': 'male'},\n",
              " {'name': 'Jacques', 'label': 'male'},\n",
              " {'name': 'Jae', 'label': 'male'},\n",
              " {'name': 'Jaime', 'label': 'male'},\n",
              " {'name': 'Jamie', 'label': 'male'},\n",
              " {'name': 'Jermaine', 'label': 'male'},\n",
              " {'name': 'Jerri', 'label': 'male'},\n",
              " {'name': 'Jerrie', 'label': 'male'},\n",
              " {'name': 'Jesse', 'label': 'male'},\n",
              " {'name': 'Jessee', 'label': 'male'},\n",
              " {'name': 'Jessey', 'label': 'male'},\n",
              " {'name': 'Jessie', 'label': 'male'},\n",
              " {'name': 'Jodi', 'label': 'male'},\n",
              " {'name': 'Jodie', 'label': 'male'},\n",
              " {'name': 'Jody', 'label': 'male'},\n",
              " {'name': 'Joel', 'label': 'male'},\n",
              " {'name': 'Jordan', 'label': 'male'},\n",
              " {'name': 'Jose', 'label': 'male'},\n",
              " {'name': 'Juanita', 'label': 'male'},\n",
              " {'name': 'Jude', 'label': 'male'},\n",
              " {'name': 'Judith', 'label': 'male'},\n",
              " {'name': 'Jule', 'label': 'male'},\n",
              " {'name': 'Julie', 'label': 'male'},\n",
              " {'name': 'Justin', 'label': 'male'},\n",
              " {'name': 'Kaleb', 'label': 'male'},\n",
              " {'name': 'Kalil', 'label': 'male'},\n",
              " {'name': 'Kalle', 'label': 'male'},\n",
              " {'name': 'Kam', 'label': 'male'},\n",
              " {'name': 'Kane', 'label': 'male'},\n",
              " {'name': 'Karel', 'label': 'male'},\n",
              " {'name': 'Karl', 'label': 'male'},\n",
              " {'name': 'Karsten', 'label': 'male'},\n",
              " {'name': 'Keene', 'label': 'male'},\n",
              " {'name': 'Kellen', 'label': 'male'},\n",
              " {'name': 'Kelley', 'label': 'male'},\n",
              " {'name': 'Kelly', 'label': 'male'},\n",
              " {'name': 'Kelsey', 'label': 'male'},\n",
              " {'name': 'Kirby', 'label': 'male'},\n",
              " {'name': 'Klee', 'label': 'male'},\n",
              " {'name': 'Konstantin', 'label': 'male'},\n",
              " {'name': 'Kory', 'label': 'male'},\n",
              " {'name': 'Kris', 'label': 'male'},\n",
              " {'name': 'Krishna', 'label': 'male'},\n",
              " {'name': 'Kristian', 'label': 'male'},\n",
              " {'name': 'Kristopher', 'label': 'male'},\n",
              " {'name': 'Kristos', 'label': 'male'},\n",
              " {'name': 'Kyle', 'label': 'male'},\n",
              " {'name': 'Lane', 'label': 'male'},\n",
              " {'name': 'Lanny', 'label': 'male'},\n",
              " {'name': 'Laurance', 'label': 'male'},\n",
              " {'name': 'Lauren', 'label': 'male'},\n",
              " {'name': 'Laurence', 'label': 'male'},\n",
              " {'name': 'Laurent', 'label': 'male'},\n",
              " {'name': 'Laurie', 'label': 'male'},\n",
              " {'name': 'Lee', 'label': 'male'},\n",
              " {'name': 'Lennie', 'label': 'male'},\n",
              " {'name': 'Leslie', 'label': 'male'},\n",
              " {'name': 'Liam', 'label': 'male'},\n",
              " {'name': 'Lin', 'label': 'male'},\n",
              " {'name': 'Lindsay', 'label': 'male'},\n",
              " {'name': 'Lindsey', 'label': 'male'},\n",
              " {'name': 'Lindy', 'label': 'male'},\n",
              " {'name': 'Lonnie', 'label': 'male'},\n",
              " {'name': 'Lonny', 'label': 'male'},\n",
              " {'name': 'Loren', 'label': 'male'},\n",
              " {'name': 'Lorne', 'label': 'male'},\n",
              " {'name': 'Lorrie', 'label': 'male'},\n",
              " {'name': 'Lou', 'label': 'male'},\n",
              " {'name': 'Louie', 'label': 'male'},\n",
              " {'name': 'Lovell', 'label': 'male'},\n",
              " {'name': 'Luce', 'label': 'male'},\n",
              " {'name': 'Lyle', 'label': 'male'},\n",
              " {'name': 'Lyn', 'label': 'male'},\n",
              " {'name': 'Lynn', 'label': 'male'},\n",
              " {'name': 'Maddie', 'label': 'male'},\n",
              " {'name': 'Maddy', 'label': 'male'},\n",
              " {'name': 'Marietta', 'label': 'male'},\n",
              " {'name': 'Marilu', 'label': 'male'},\n",
              " {'name': 'Marlin', 'label': 'male'},\n",
              " {'name': 'Marlowe', 'label': 'male'},\n",
              " {'name': 'Martainn', 'label': 'male'},\n",
              " {'name': 'Marten', 'label': 'male'},\n",
              " {'name': 'Martie', 'label': 'male'},\n",
              " {'name': 'Martin', 'label': 'male'},\n",
              " {'name': 'Marty', 'label': 'male'},\n",
              " {'name': 'Martyn', 'label': 'male'},\n",
              " {'name': 'Maurice', 'label': 'male'},\n",
              " {'name': 'Maurie', 'label': 'male'},\n",
              " {'name': 'Maurise', 'label': 'male'},\n",
              " {'name': 'Max', 'label': 'male'},\n",
              " {'name': 'Maxie', 'label': 'male'},\n",
              " {'name': 'Meade', 'label': 'male'},\n",
              " {'name': 'Mel', 'label': 'male'},\n",
              " {'name': 'Melvyn', 'label': 'male'},\n",
              " {'name': 'Meredeth', 'label': 'male'},\n",
              " {'name': 'Meredith', 'label': 'male'},\n",
              " {'name': 'Merill', 'label': 'male'},\n",
              " {'name': 'Merle', 'label': 'male'},\n",
              " {'name': 'Merlin', 'label': 'male'},\n",
              " {'name': 'Merrel', 'label': 'male'},\n",
              " {'name': 'Merril', 'label': 'male'},\n",
              " {'name': 'Merrill', 'label': 'male'},\n",
              " {'name': 'Merry', 'label': 'male'},\n",
              " {'name': 'Meryl', 'label': 'male'},\n",
              " {'name': 'Michale', 'label': 'male'},\n",
              " {'name': 'Michele', 'label': 'male'},\n",
              " {'name': 'Mickie', 'label': 'male'},\n",
              " {'name': 'Mika', 'label': 'male'},\n",
              " {'name': 'Millicent', 'label': 'male'},\n",
              " {'name': 'Mischa', 'label': 'male'},\n",
              " {'name': 'Moore', 'label': 'male'},\n",
              " {'name': 'Morgan', 'label': 'male'},\n",
              " {'name': 'Morlee', 'label': 'male'},\n",
              " {'name': 'Natale', 'label': 'male'},\n",
              " {'name': 'Nate', 'label': 'male'},\n",
              " {'name': 'Neddie', 'label': 'male'},\n",
              " {'name': 'Neil', 'label': 'male'},\n",
              " {'name': 'Nichole', 'label': 'male'},\n",
              " {'name': 'Nickie', 'label': 'male'},\n",
              " {'name': 'Niki', 'label': 'male'},\n",
              " {'name': 'Nikita', 'label': 'male'},\n",
              " {'name': 'Nikki', 'label': 'male'},\n",
              " {'name': 'Noel', 'label': 'male'},\n",
              " {'name': 'Norris', 'label': 'male'},\n",
              " {'name': 'Odell', 'label': 'male'},\n",
              " {'name': 'Odie', 'label': 'male'},\n",
              " {'name': 'Olle', 'label': 'male'},\n",
              " {'name': 'Ollie', 'label': 'male'},\n",
              " {'name': 'Partha', 'label': 'male'},\n",
              " {'name': 'Pattie', 'label': 'male'},\n",
              " {'name': 'Pennie', 'label': 'male'},\n",
              " {'name': 'Pete', 'label': 'male'},\n",
              " {'name': 'Pooh', 'label': 'male'},\n",
              " {'name': 'Rabi', 'label': 'male'},\n",
              " {'name': 'Randi', 'label': 'male'},\n",
              " {'name': 'Rene', 'label': 'male'},\n",
              " {'name': 'Reza', 'label': 'male'},\n",
              " {'name': 'Rhett', 'label': 'male'},\n",
              " {'name': 'Rikki', 'label': 'male'},\n",
              " {'name': 'Robbie', 'label': 'male'},\n",
              " {'name': 'Roni', 'label': 'male'},\n",
              " {'name': 'Ronnie', 'label': 'male'},\n",
              " {'name': 'Ryan', 'label': 'male'},\n",
              " {'name': 'Sascha', 'label': 'male'},\n",
              " {'name': 'Sasha', 'label': 'male'},\n",
              " {'name': 'Saundra', 'label': 'male'},\n",
              " {'name': 'Sayre', 'label': 'male'},\n",
              " {'name': 'Shaine', 'label': 'male'},\n",
              " {'name': 'Shane', 'label': 'male'},\n",
              " {'name': 'Shannon', 'label': 'male'},\n",
              " {'name': 'Shay', 'label': 'male'},\n",
              " {'name': 'Shayne', 'label': 'male'},\n",
              " {'name': 'Shea', 'label': 'male'},\n",
              " {'name': 'Shelley', 'label': 'male'},\n",
              " {'name': 'Si', 'label': 'male'},\n",
              " {'name': 'Sibyl', 'label': 'male'},\n",
              " {'name': 'Siddhartha', 'label': 'male'},\n",
              " {'name': 'Simone', 'label': 'male'},\n",
              " {'name': 'Sonnie', 'label': 'male'},\n",
              " {'name': 'Stacy', 'label': 'male'},\n",
              " {'name': 'Sunny', 'label': 'male'},\n",
              " {'name': 'Tabbie', 'label': 'male'},\n",
              " {'name': 'Tabby', 'label': 'male'},\n",
              " {'name': 'Taite', 'label': 'male'},\n",
              " {'name': 'Tallie', 'label': 'male'},\n",
              " {'name': 'Tammie', 'label': 'male'},\n",
              " {'name': 'Tate', 'label': 'male'},\n",
              " {'name': 'Teddie', 'label': 'male'},\n",
              " {'name': 'Terri', 'label': 'male'},\n",
              " {'name': 'Terrill', 'label': 'male'},\n",
              " {'name': 'Tobe', 'label': 'male'},\n",
              " {'name': 'Tonnie', 'label': 'male'},\n",
              " {'name': 'Tracie', 'label': 'male'},\n",
              " {'name': 'Vale', 'label': 'male'},\n",
              " {'name': 'Valentin', 'label': 'male'},\n",
              " {'name': 'Valentine', 'label': 'male'},\n",
              " {'name': 'Vinnie', 'label': 'male'},\n",
              " {'name': 'Virgie', 'label': 'male'},\n",
              " {'name': 'Vite', 'label': 'male'},\n",
              " {'name': 'Voltaire', 'label': 'male'},\n",
              " {'name': 'Winnie', 'label': 'male'},\n",
              " {'name': 'Yehudi', 'label': 'male'},\n",
              " {'name': 'Zane', 'label': 'male'},\n",
              " {'name': 'Zollie', 'label': 'male'},\n",
              " {'name': 'Zolly', 'label': 'male'},\n",
              " {'name': 'Abby', 'label': 'female'},\n",
              " {'name': 'Adriaens', 'label': 'female'},\n",
              " {'name': 'Adrian', 'label': 'female'},\n",
              " {'name': 'Adrien', 'label': 'female'},\n",
              " {'name': 'Ajay', 'label': 'female'},\n",
              " {'name': 'Alex', 'label': 'female'},\n",
              " {'name': 'Alexis', 'label': 'female'},\n",
              " {'name': 'Alfie', 'label': 'female'},\n",
              " {'name': 'Alison', 'label': 'female'},\n",
              " {'name': 'Allison', 'label': 'female'},\n",
              " {'name': 'Allsun', 'label': 'female'},\n",
              " {'name': 'Allyce', 'label': 'female'},\n",
              " {'name': 'Allyson', 'label': 'female'},\n",
              " {'name': 'Amber', 'label': 'female'},\n",
              " {'name': 'Ambur', 'label': 'female'},\n",
              " {'name': 'Andromache', 'label': 'female'},\n",
              " {'name': 'Angel', 'label': 'female'},\n",
              " {'name': 'Angil', 'label': 'female'},\n",
              " {'name': 'Ariel', 'label': 'female'},\n",
              " {'name': 'Ashleigh', 'label': 'female'},\n",
              " {'name': 'Aubrey', 'label': 'female'},\n",
              " {'name': 'Aubry', 'label': 'female'},\n",
              " {'name': 'Austin', 'label': 'female'},\n",
              " {'name': 'Averil', 'label': 'female'},\n",
              " {'name': 'Averyl', 'label': 'female'},\n",
              " {'name': 'Ayn', 'label': 'female'},\n",
              " {'name': 'Bab', 'label': 'female'},\n",
              " {'name': 'Barb', 'label': 'female'},\n",
              " {'name': 'Barrie', 'label': 'female'},\n",
              " {'name': 'Barry', 'label': 'female'},\n",
              " {'name': 'Beau', 'label': 'female'},\n",
              " {'name': 'Benny', 'label': 'female'},\n",
              " {'name': 'Bert', 'label': 'female'},\n",
              " {'name': 'Bev', 'label': 'female'},\n",
              " {'name': 'Bill', 'label': 'female'},\n",
              " {'name': 'Billy', 'label': 'female'},\n",
              " {'name': 'Bird', 'label': 'female'},\n",
              " {'name': 'Blair', 'label': 'female'},\n",
              " {'name': 'Blanch', 'label': 'female'},\n",
              " {'name': 'Bo', 'label': 'female'},\n",
              " {'name': 'Bobby', 'label': 'female'},\n",
              " {'name': 'Brear', 'label': 'female'},\n",
              " {'name': 'Bren', 'label': 'female'},\n",
              " {'name': 'Brenn', 'label': 'female'},\n",
              " {'name': 'Brett', 'label': 'female'},\n",
              " {'name': 'Brier', 'label': 'female'},\n",
              " {'name': 'Brook', 'label': 'female'},\n",
              " {'name': 'Brooke', 'label': 'female'},\n",
              " {'name': 'Brooks', 'label': 'female'},\n",
              " {'name': 'Buffy', 'label': 'female'},\n",
              " {'name': 'Bunny', 'label': 'female'},\n",
              " {'name': 'Cal', 'label': 'female'},\n",
              " {'name': 'Cam', 'label': 'female'},\n",
              " {'name': 'Cameo', 'label': 'female'},\n",
              " {'name': 'Chad', 'label': 'female'},\n",
              " {'name': 'Chandal', 'label': 'female'},\n",
              " {'name': 'Charlot', 'label': 'female'},\n",
              " {'name': 'Charlott', 'label': 'female'},\n",
              " {'name': 'Charmion', 'label': 'female'},\n",
              " {'name': 'Charo', 'label': 'female'},\n",
              " {'name': 'Cher', 'label': 'female'},\n",
              " {'name': 'Christan', 'label': 'female'},\n",
              " {'name': 'Christian', 'label': 'female'},\n",
              " {'name': 'Chrysler', 'label': 'female'},\n",
              " {'name': 'Clair', 'label': 'female'},\n",
              " {'name': 'Clem', 'label': 'female'},\n",
              " {'name': 'Clemence', 'label': 'female'},\n",
              " {'name': 'Clemmy', 'label': 'female'},\n",
              " {'name': 'Cleo', 'label': 'female'},\n",
              " {'name': 'Clio', 'label': 'female'},\n",
              " {'name': 'Clo', 'label': 'female'},\n",
              " {'name': 'Clovis', 'label': 'female'},\n",
              " {'name': 'Con', 'label': 'female'},\n",
              " {'name': 'Consuelo', 'label': 'female'},\n",
              " {'name': 'Cory', 'label': 'female'},\n",
              " {'name': 'Daffy', 'label': 'female'},\n",
              " {'name': 'Dagmar', 'label': 'female'},\n",
              " {'name': 'Dallas', 'label': 'female'},\n",
              " {'name': 'Darb', 'label': 'female'},\n",
              " {'name': 'Darby', 'label': 'female'},\n",
              " {'name': 'Darcy', 'label': 'female'},\n",
              " {'name': 'Darryl', 'label': 'female'},\n",
              " {'name': 'Demeter', 'label': 'female'},\n",
              " {'name': 'Demetris', 'label': 'female'},\n",
              " {'name': 'Devon', 'label': 'female'},\n",
              " {'name': 'Dew', 'label': 'female'},\n",
              " {'name': 'Diamond', 'label': 'female'},\n",
              " {'name': 'Dido', 'label': 'female'},\n",
              " {'name': 'Dion', 'label': 'female'},\n",
              " {'name': 'Dionis', 'label': 'female'},\n",
              " {'name': 'Dominique', 'label': 'female'},\n",
              " {'name': 'Drew', 'label': 'female'},\n",
              " {'name': 'Easter', 'label': 'female'},\n",
              " {'name': 'Eddy', 'label': 'female'},\n",
              " {'name': 'Elinor', 'label': 'female'},\n",
              " {'name': 'Em', 'label': 'female'},\n",
              " {'name': 'Emmey', 'label': 'female'},\n",
              " {'name': 'Enid', 'label': 'female'},\n",
              " {'name': 'Eran', 'label': 'female'},\n",
              " {'name': 'Ester', 'label': 'female'},\n",
              " {'name': 'Esther', 'label': 'female'},\n",
              " {'name': 'Evey', 'label': 'female'},\n",
              " {'name': 'Fallon', 'label': 'female'},\n",
              " {'name': 'Farand', 'label': 'female'},\n",
              " {'name': 'Farrand', 'label': 'female'},\n",
              " {'name': 'Felicdad', 'label': 'female'},\n",
              " {'name': 'Fern', 'label': 'female'},\n",
              " {'name': 'Fleur', 'label': 'female'},\n",
              " {'name': 'Flo', 'label': 'female'},\n",
              " {'name': 'Flor', 'label': 'female'},\n",
              " {'name': 'Flower', 'label': 'female'},\n",
              " {'name': 'Fran', 'label': 'female'},\n",
              " {'name': 'France', 'label': 'female'},\n",
              " {'name': 'Frances', 'label': 'female'},\n",
              " {'name': 'Francesmary', 'label': 'female'},\n",
              " {'name': 'Francis', 'label': 'female'},\n",
              " {'name': 'Frank', 'label': 'female'},\n",
              " {'name': 'Frankie', 'label': 'female'},\n",
              " {'name': 'Franky', 'label': 'female'},\n",
              " {'name': 'Fred', 'label': 'female'},\n",
              " {'name': 'Friederike', 'label': 'female'},\n",
              " {'name': 'Gabriel', 'label': 'female'},\n",
              " {'name': 'Gabriell', 'label': 'female'},\n",
              " {'name': 'Gaby', 'label': 'female'},\n",
              " {'name': 'Gael', 'label': 'female'},\n",
              " {'name': 'Gail', 'label': 'female'},\n",
              " {'name': 'Gale', 'label': 'female'},\n",
              " {'name': 'Garland', 'label': 'female'},\n",
              " {'name': 'Garnet', 'label': 'female'},\n",
              " {'name': 'Gates', 'label': 'female'},\n",
              " {'name': 'Gay', 'label': 'female'},\n",
              " {'name': 'Gaynor', 'label': 'female'},\n",
              " {'name': 'Germain', 'label': 'female'},\n",
              " {'name': 'Gerry', 'label': 'female'},\n",
              " {'name': 'Gert', 'label': 'female'},\n",
              " {'name': 'Gigi', 'label': 'female'},\n",
              " {'name': 'Gill', 'label': 'female'},\n",
              " {'name': 'Gillan', 'label': 'female'},\n",
              " {'name': 'Gillian', 'label': 'female'},\n",
              " {'name': 'Gilligan', 'label': 'female'},\n",
              " {'name': 'Ginger', 'label': 'female'},\n",
              " {'name': 'Gipsy', 'label': 'female'},\n",
              " {'name': 'Grace', 'label': 'female'},\n",
              " {'name': 'Gray', 'label': 'female'},\n",
              " {'name': 'Gredel', 'label': 'female'},\n",
              " {'name': 'Greer', 'label': 'female'},\n",
              " {'name': 'Gretchen', 'label': 'female'},\n",
              " {'name': 'Grier', 'label': 'female'},\n",
              " {'name': 'Grissel', 'label': 'female'},\n",
              " {'name': 'Gunvor', 'label': 'female'},\n",
              " {'name': 'Gus', 'label': 'female'},\n",
              " {'name': 'Gypsy', 'label': 'female'},\n",
              " {'name': 'Haily', 'label': 'female'},\n",
              " {'name': 'Haleigh', 'label': 'female'},\n",
              " {'name': 'Haley', 'label': 'female'},\n",
              " {'name': 'Halley', 'label': 'female'},\n",
              " {'name': 'Hally', 'label': 'female'},\n",
              " {'name': 'Hannibal', 'label': 'female'},\n",
              " {'name': 'Hannis', 'label': 'female'},\n",
              " {'name': 'Hanny', 'label': 'female'},\n",
              " {'name': 'Harley', 'label': 'female'},\n",
              " {'name': 'Harlie', 'label': 'female'},\n",
              " {'name': 'Harmony', 'label': 'female'},\n",
              " {'name': 'Harriet', 'label': 'female'},\n",
              " {'name': 'Harriett', 'label': 'female'},\n",
              " {'name': 'Harriot', 'label': 'female'},\n",
              " {'name': 'Harriott', 'label': 'female'},\n",
              " {'name': 'Hayley', 'label': 'female'},\n",
              " {'name': 'Hazel', 'label': 'female'},\n",
              " {'name': 'Heath', 'label': 'female'},\n",
              " {'name': 'Heather', 'label': 'female'},\n",
              " {'name': 'Hedvig', 'label': 'female'},\n",
              " {'name': 'Hedwig', 'label': 'female'},\n",
              " {'name': 'Hephzibah', 'label': 'female'},\n",
              " {'name': 'Hester', 'label': 'female'},\n",
              " {'name': 'Hesther', 'label': 'female'},\n",
              " {'name': 'Hilarie', 'label': 'female'},\n",
              " {'name': 'Hilary', 'label': 'female'},\n",
              " {'name': 'Hildagard', 'label': 'female'},\n",
              " {'name': 'Hildegaard', 'label': 'female'},\n",
              " {'name': 'Hillary', 'label': 'female'},\n",
              " {'name': 'Hilliary', 'label': 'female'},\n",
              " {'name': 'Holley', 'label': 'female'},\n",
              " {'name': 'Honor', 'label': 'female'},\n",
              " {'name': 'Hortense', 'label': 'female'},\n",
              " {'name': 'Ike', 'label': 'female'},\n",
              " {'name': 'Ikey', 'label': 'female'},\n",
              " {'name': 'Inger', 'label': 'female'},\n",
              " {'name': 'Ingrid', 'label': 'female'},\n",
              " {'name': 'Isador', 'label': 'female'},\n",
              " {'name': 'Iseabal', 'label': 'female'},\n",
              " {'name': 'Ivett', 'label': 'female'},\n",
              " {'name': 'Jan', 'label': 'female'},\n",
              " {'name': 'Janot', 'label': 'female'},\n",
              " {'name': 'Jazmin', 'label': 'female'},\n",
              " {'name': 'Jean', 'label': 'female'},\n",
              " {'name': 'Jen', 'label': 'female'},\n",
              " {'name': 'Jere', 'label': 'female'},\n",
              " {'name': 'Jerry', 'label': 'female'},\n",
              " {'name': 'Jess', 'label': 'female'},\n",
              " {'name': 'Jo', 'label': 'female'},\n",
              " {'name': 'Joannes', 'label': 'female'},\n",
              " {'name': 'Joey', 'label': 'female'},\n",
              " {'name': 'Johannah', 'label': 'female'},\n",
              " {'name': 'Joy', 'label': 'female'},\n",
              " {'name': 'Judy', 'label': 'female'},\n",
              " {'name': 'Kaster', 'label': 'female'},\n",
              " {'name': 'Kerry', 'label': 'female'},\n",
              " {'name': 'Kiah', 'label': 'female'},\n",
              " {'name': 'Kim', 'label': 'female'},\n",
              " {'name': 'Kip', 'label': 'female'},\n",
              " {'name': 'Kit', 'label': 'female'},\n",
              " {'name': 'Kylen', 'label': 'female'},\n",
              " {'name': 'Lamb', 'label': 'female'},\n",
              " {'name': 'Lark', 'label': 'female'},\n",
              " {'name': 'Leigh', 'label': 'female'},\n",
              " {'name': 'Leland', 'label': 'female'},\n",
              " {'name': 'Lesley', 'label': 'female'},\n",
              " {'name': 'Lind', 'label': 'female'},\n",
              " {'name': 'Mab', 'label': 'female'},\n",
              " {'name': 'Mair', 'label': 'female'},\n",
              " {'name': 'Malcah', 'label': 'female'},\n",
              " {'name': 'Marigold', 'label': 'female'},\n",
              " {'name': 'Marion', 'label': 'female'},\n",
              " {'name': 'Marlo', 'label': 'female'},\n",
              " {'name': 'Mattie', 'label': 'female'},\n",
              " {'name': 'Matty', 'label': 'female'},\n",
              " {'name': 'Maud', 'label': 'female'},\n",
              " {'name': 'Mead', 'label': 'female'},\n",
              " {'name': 'Meagan', 'label': 'female'},\n",
              " {'name': 'Meaghan', 'label': 'female'},\n",
              " {'name': 'Michal', 'label': 'female'},\n",
              " {'name': 'Michel', 'label': 'female'},\n",
              " {'name': 'Michell', 'label': 'female'},\n",
              " {'name': 'Micky', 'label': 'female'},\n",
              " {'name': 'Mikako', 'label': 'female'},\n",
              " {'name': 'Mildred', 'label': 'female'},\n",
              " {'name': 'Muffin', 'label': 'female'},\n",
              " {'name': 'Mureil', 'label': 'female'},\n",
              " {'name': 'Nat', 'label': 'female'},\n",
              " {'name': 'Nathalie', 'label': 'female'},\n",
              " {'name': 'Nert', 'label': 'female'},\n",
              " {'name': 'Nicky', 'label': 'female'},\n",
              " {'name': 'Nil', 'label': 'female'},\n",
              " {'name': 'Orel', 'label': 'female'},\n",
              " {'name': 'Orly', 'label': 'female'},\n",
              " {'name': 'Page', 'label': 'female'},\n",
              " {'name': 'Paige', 'label': 'female'},\n",
              " {'name': 'Pam', 'label': 'female'},\n",
              " {'name': 'Pat', 'label': 'female'},\n",
              " {'name': 'Patience', 'label': 'female'},\n",
              " {'name': 'Patrice', 'label': 'female'},\n",
              " {'name': 'Patsy', 'label': 'female'},\n",
              " {'name': 'Patty', 'label': 'female'},\n",
              " {'name': 'Pearl', 'label': 'female'},\n",
              " {'name': 'Pen', 'label': 'female'},\n",
              " {'name': 'Penny', 'label': 'female'},\n",
              " {'name': 'Perl', 'label': 'female'},\n",
              " {'name': 'Perry', 'label': 'female'},\n",
              " {'name': 'Pet', 'label': 'female'},\n",
              " {'name': 'Phil', 'label': 'female'},\n",
              " {'name': 'Phillis', 'label': 'female'},\n",
              " {'name': 'Pier', 'label': 'female'},\n",
              " {'name': 'Piper', 'label': 'female'},\n",
              " {'name': 'Prue', 'label': 'female'},\n",
              " {'name': 'Quentin', 'label': 'female'},\n",
              " {'name': 'Quinn', 'label': 'female'},\n",
              " {'name': 'Raf', 'label': 'female'},\n",
              " {'name': 'Ragnhild', 'label': 'female'},\n",
              " {'name': 'Rakel', 'label': 'female'},\n",
              " {'name': 'Randie', 'label': 'female'},\n",
              " {'name': 'Randy', 'label': 'female'},\n",
              " {'name': 'Raquel', 'label': 'female'},\n",
              " {'name': 'Raven', 'label': 'female'},\n",
              " {'name': 'Ray', 'label': 'female'},\n",
              " {'name': 'Raychel', 'label': 'female'},\n",
              " {'name': 'Raynell', 'label': 'female'},\n",
              " {'name': 'Rayshell', 'label': 'female'},\n",
              " {'name': 'Regan', 'label': 'female'},\n",
              " {'name': 'Reggie', 'label': 'female'},\n",
              " {'name': 'Remy', 'label': 'female'},\n",
              " {'name': 'Rey', 'label': 'female'},\n",
              " {'name': 'Ricki', 'label': 'female'},\n",
              " {'name': 'Rickie', 'label': 'female'},\n",
              " {'name': 'Ricky', 'label': 'female'},\n",
              " {'name': 'Robbin', 'label': 'female'},\n",
              " {'name': 'Robin', 'label': 'female'},\n",
              " {'name': 'Robinett', 'label': 'female'},\n",
              " {'name': 'Roch', 'label': 'female'},\n",
              " {'name': 'Romy', 'label': 'female'},\n",
              " {'name': 'Ronny', 'label': 'female'},\n",
              " {'name': 'Rory', 'label': 'female'},\n",
              " {'name': 'Ros', 'label': 'female'},\n",
              " {'name': 'Row', 'label': 'female'},\n",
              " {'name': 'Ruby', 'label': 'female'},\n",
              " {'name': 'Ruth', 'label': 'female'},\n",
              " {'name': 'Sal', 'label': 'female'},\n",
              " {'name': 'Salome', 'label': 'female'},\n",
              " {'name': 'Sam', 'label': 'female'},\n",
              " {'name': 'Sammy', 'label': 'female'},\n",
              " {'name': 'Sandy', 'label': 'female'},\n",
              " {'name': 'Scarlet', 'label': 'female'},\n",
              " {'name': 'Scarlett', 'label': 'female'},\n",
              " {'name': 'Scotty', 'label': 'female'},\n",
              " {'name': 'Sean', 'label': 'female'},\n",
              " {'name': 'Shamit', 'label': 'female'},\n",
              " {'name': 'Shaun', 'label': 'female'},\n",
              " {'name': 'Shawn', 'label': 'female'},\n",
              " {'name': 'Shel', 'label': 'female'},\n",
              " {'name': 'Shelby', 'label': 'female'},\n",
              " {'name': 'Shell', 'label': 'female'},\n",
              " {'name': 'Sher', 'label': 'female'},\n",
              " {'name': 'Sigrid', 'label': 'female'},\n",
              " {'name': 'Sileas', 'label': 'female'},\n",
              " {'name': 'Sinead', 'label': 'female'},\n",
              " {'name': 'Siobhan', 'label': 'female'},\n",
              " {'name': 'Sonny', 'label': 'female'},\n",
              " {'name': 'Star', 'label': 'female'},\n",
              " {'name': 'Starr', 'label': 'female'},\n",
              " {'name': 'Stoddard', 'label': 'female'},\n",
              " {'name': 'Sydney', 'label': 'female'},\n",
              " {'name': 'Tally', 'label': 'female'},\n",
              " {'name': 'Tamar', 'label': 'female'},\n",
              " {'name': 'Tammy', 'label': 'female'},\n",
              " {'name': 'Tatum', 'label': 'female'},\n",
              " {'name': 'Ted', 'label': 'female'},\n",
              " {'name': 'Teddy', 'label': 'female'},\n",
              " {'name': 'Terry', 'label': 'female'},\n",
              " {'name': 'Theo', 'label': 'female'},\n",
              " {'name': 'Thomasin', 'label': 'female'},\n",
              " {'name': 'Tiff', 'label': 'female'},\n",
              " {'name': 'Tim', 'label': 'female'},\n",
              " {'name': 'Timmie', 'label': 'female'},\n",
              " {'name': 'Timmy', 'label': 'female'},\n",
              " {'name': 'Tish', 'label': 'female'},\n",
              " {'name': 'Tobie', 'label': 'female'},\n",
              " {'name': 'Toby', 'label': 'female'},\n",
              " {'name': 'Tommie', 'label': 'female'},\n",
              " {'name': 'Tommy', 'label': 'female'},\n",
              " {'name': 'Tony', 'label': 'female'},\n",
              " {'name': 'Torey', 'label': 'female'},\n",
              " {'name': 'Torie', 'label': 'female'},\n",
              " {'name': 'Torrie', 'label': 'female'},\n",
              " {'name': 'Tory', 'label': 'female'},\n",
              " {'name': 'Trace', 'label': 'female'},\n",
              " {'name': 'Tracey', 'label': 'female'},\n",
              " {'name': 'Tracy', 'label': 'female'},\n",
              " {'name': 'Trish', 'label': 'female'},\n",
              " {'name': 'Tuesday', 'label': 'female'},\n",
              " {'name': 'Ulrike', 'label': 'female'},\n",
              " {'name': 'Val', 'label': 'female'},\n",
              " {'name': 'Van', 'label': 'female'},\n",
              " {'name': 'Venus', 'label': 'female'},\n",
              " {'name': 'Vin', 'label': 'female'},\n",
              " {'name': 'Vinny', 'label': 'female'},\n",
              " {'name': 'Wallie', 'label': 'female'},\n",
              " {'name': 'Wallis', 'label': 'female'},\n",
              " {'name': 'Wally', 'label': 'female'},\n",
              " {'name': 'Waly', 'label': 'female'},\n",
              " {'name': 'Wandis', 'label': 'female'},\n",
              " {'name': 'Wendie', 'label': 'female'},\n",
              " {'name': 'Wendy', 'label': 'female'},\n",
              " {'name': 'Wenonah', 'label': 'female'},\n",
              " {'name': 'Whitney', 'label': 'female'},\n",
              " {'name': 'Wileen', 'label': 'female'},\n",
              " {'name': 'Willi', 'label': 'female'},\n",
              " {'name': 'Willie', 'label': 'female'},\n",
              " {'name': 'Willow', 'label': 'female'},\n",
              " {'name': 'Willy', 'label': 'female'},\n",
              " {'name': 'Willyt', 'label': 'female'},\n",
              " {'name': 'Wilow', 'label': 'female'},\n",
              " {'name': 'Windy', 'label': 'female'},\n",
              " {'name': 'Wini', 'label': 'female'},\n",
              " {'name': 'Winifred', 'label': 'female'},\n",
              " {'name': 'Winnifred', 'label': 'female'},\n",
              " {'name': 'Winny', 'label': 'female'},\n",
              " {'name': 'Wren', 'label': 'female'},\n",
              " {'name': 'Wynn', 'label': 'female'},\n",
              " {'name': 'Wynnie', 'label': 'female'},\n",
              " {'name': 'Wynny', 'label': 'female'},\n",
              " {'name': 'Yehudit', 'label': 'female'}]"
            ]
          },
          "metadata": {
            "tags": []
          },
          "execution_count": 37
        }
      ]
    },
    {
      "cell_type": "markdown",
      "metadata": {
        "id": "VFg31ZEva2mv",
        "colab_type": "text"
      },
      "source": [
        "## 5.2 Sentiment Analysis"
      ]
    },
    {
      "cell_type": "code",
      "metadata": {
        "id": "1RceD73Ka2mw",
        "colab_type": "code",
        "colab": {}
      },
      "source": [
        "# sentiment analysis - part #1\n",
        "from nltk.corpus import movie_reviews as reviews\n",
        "import random\n",
        "\n",
        "docs = [(list(reviews.words(id)), cat) for cat in reviews.categories() for id in reviews.fileids(cat)]\n",
        "random.shuffle(docs)\n",
        "\n",
        "#print([ (len(d[0]), d[0][:2], d[1]) for d in docs[:10]])\n",
        "\n",
        "fd = nltk.FreqDist(word.lower() for word in reviews.words())\n",
        "topKeys = [ key for (key,value) in fd.most_common(2000)]"
      ],
      "execution_count": 0,
      "outputs": []
    },
    {
      "cell_type": "code",
      "metadata": {
        "id": "ULBH5D2ta2m0",
        "colab_type": "code",
        "colab": {},
        "outputId": "434f7da9-8811-4a04-d978-26a5be55adca"
      },
      "source": [
        "# sentiment analysis - part #2\n",
        "import nltk\n",
        "\n",
        "def review_features(doc):\n",
        "    docSet = set(doc)\n",
        "    features = {}\n",
        "    \n",
        "    for word in topKeys:\n",
        "        features[word] = (word in docSet)\n",
        "    \n",
        "    return features\n",
        "\n",
        "#review_features(reviews.words(\"pos/cv957_8737.txt\"))\n",
        "\n",
        "data = [(review_features(doc), label) for (doc,label) in docs]\n",
        "\n",
        "dataCount = len(data)\n",
        "trainCount = int(.8*dataCount)\n",
        "\n",
        "trainData = data[:trainCount]\n",
        "testData = data[trainCount:]\n",
        "bayes2 = nltk.NaiveBayesClassifier.train(trainData)\n",
        "\n",
        "print(\"train accuracy=\", nltk.classify.accuracy(bayes2, trainData))\n",
        "print(\"test accuracy=\", nltk.classify.accuracy(bayes2, testData))\n",
        "\n",
        "bayes2.show_most_informative_features(20)"
      ],
      "execution_count": 0,
      "outputs": [
        {
          "output_type": "stream",
          "text": [
            "train accuracy= 0.87875\n",
            "test accuracy= 0.8275\n",
            "Most Informative Features\n",
            "                  seagal = True              neg : pos    =     10.4 : 1.0\n",
            "             wonderfully = True              pos : neg    =      9.1 : 1.0\n",
            "             outstanding = True              pos : neg    =      8.7 : 1.0\n",
            "                   mulan = True              pos : neg    =      6.9 : 1.0\n",
            "                  poorly = True              neg : pos    =      6.6 : 1.0\n",
            "                    lame = True              neg : pos    =      6.5 : 1.0\n",
            "                   awful = True              neg : pos    =      6.2 : 1.0\n",
            "                   damon = True              pos : neg    =      6.1 : 1.0\n",
            "                  wasted = True              neg : pos    =      5.4 : 1.0\n",
            "              ridiculous = True              neg : pos    =      5.3 : 1.0\n",
            "                   bland = True              neg : pos    =      5.0 : 1.0\n",
            "                    dull = True              neg : pos    =      4.8 : 1.0\n",
            "                     era = True              pos : neg    =      4.6 : 1.0\n",
            "               portrayal = True              pos : neg    =      4.6 : 1.0\n",
            "                   badly = True              neg : pos    =      4.6 : 1.0\n",
            "                   worst = True              neg : pos    =      4.6 : 1.0\n",
            "                   waste = True              neg : pos    =      4.5 : 1.0\n",
            "                 unfunny = True              neg : pos    =      4.4 : 1.0\n",
            "                   flynt = True              pos : neg    =      4.3 : 1.0\n",
            "                    mess = True              neg : pos    =      4.1 : 1.0\n"
          ],
          "name": "stdout"
        }
      ]
    },
    {
      "cell_type": "code",
      "metadata": {
        "id": "-HjCIlaZa2m7",
        "colab_type": "code",
        "colab": {}
      },
      "source": [
        ""
      ],
      "execution_count": 0,
      "outputs": []
    }
  ]
}
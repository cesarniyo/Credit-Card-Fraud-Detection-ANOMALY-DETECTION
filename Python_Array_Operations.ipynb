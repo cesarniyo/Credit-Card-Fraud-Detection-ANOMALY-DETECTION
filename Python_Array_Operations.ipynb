{
  "nbformat": 4,
  "nbformat_minor": 0,
  "metadata": {
    "colab": {
      "name": "Python Array Operations",
      "provenance": [],
      "collapsed_sections": [],
      "toc_visible": true,
      "include_colab_link": true
    },
    "kernelspec": {
      "display_name": "Python 3",
      "name": "python3"
    }
  },
  "cells": [
    {
      "cell_type": "markdown",
      "metadata": {
        "id": "view-in-github",
        "colab_type": "text"
      },
      "source": [
        "<a href=\"https://colab.research.google.com/github/cesarniyo/Credit-Card-Fraud-Detection-ANOMALY-DETECTION/blob/master/Python_Array_Operations.ipynb\" target=\"_parent\"><img src=\"https://colab.research.google.com/assets/colab-badge.svg\" alt=\"Open In Colab\"/></a>"
      ]
    },
    {
      "cell_type": "markdown",
      "metadata": {
        "id": "vGjQC-Zsak_X",
        "colab_type": "text"
      },
      "source": [
        "# Python Array Operations"
      ]
    },
    {
      "cell_type": "markdown",
      "metadata": {
        "id": "cp6GejlSbp0t",
        "colab_type": "text"
      },
      "source": [
        "What is an array?\n",
        "\n",
        "An array is a **data structure** which can hold more than one value at time. It is a collection of elements of the SAME TYPE.\n",
        "Each element/value has an index associated."
      ]
    },
    {
      "cell_type": "markdown",
      "metadata": {
        "id": "_V3NOXF_wQIr",
        "colab_type": "text"
      },
      "source": [
        "# Basic array manipulation"
      ]
    },
    {
      "cell_type": "markdown",
      "metadata": {
        "id": "J7Ek-f7loLov",
        "colab_type": "text"
      },
      "source": [
        "### Importing array module"
      ]
    },
    {
      "cell_type": "code",
      "metadata": {
        "id": "4pc7O1XKaxKs",
        "colab_type": "code",
        "colab": {}
      },
      "source": [
        "import array\n",
        "# import array as arr\n",
        "#from array import *"
      ],
      "execution_count": 0,
      "outputs": []
    },
    {
      "cell_type": "code",
      "metadata": {
        "id": "lmFacYJSaxHq",
        "colab_type": "code",
        "outputId": "7d01a6b0-e019-4d3f-cae8-af33947dba53",
        "colab": {
          "base_uri": "https://localhost:8080/",
          "height": 34
        }
      },
      "source": [
        "a =array.array('i',[1,2,3,4,5])\n",
        "print(a)"
      ],
      "execution_count": 0,
      "outputs": [
        {
          "output_type": "stream",
          "text": [
            "array('i', [1, 2, 3, 4, 5])\n"
          ],
          "name": "stdout"
        }
      ]
    },
    {
      "cell_type": "markdown",
      "metadata": {
        "id": "75ms0xQIeIv2",
        "colab_type": "text"
      },
      "source": [
        "### Accessing array elements"
      ]
    },
    {
      "cell_type": "code",
      "metadata": {
        "id": "5EM-6QLSaxED",
        "colab_type": "code",
        "outputId": "a2be077f-6e02-492d-c8fe-0322d6636776",
        "colab": {
          "base_uri": "https://localhost:8080/",
          "height": 34
        }
      },
      "source": [
        "a[2]"
      ],
      "execution_count": 0,
      "outputs": [
        {
          "output_type": "execute_result",
          "data": {
            "text/plain": [
              "3"
            ]
          },
          "metadata": {
            "tags": []
          },
          "execution_count": 3
        }
      ]
    },
    {
      "cell_type": "code",
      "metadata": {
        "id": "vdrsYPrwaw8L",
        "colab_type": "code",
        "outputId": "d8018145-894e-4f27-ad69-52a9bb39f1fb",
        "colab": {
          "base_uri": "https://localhost:8080/",
          "height": 34
        }
      },
      "source": [
        "a[-2]"
      ],
      "execution_count": 0,
      "outputs": [
        {
          "output_type": "execute_result",
          "data": {
            "text/plain": [
              "4"
            ]
          },
          "metadata": {
            "tags": []
          },
          "execution_count": 4
        }
      ]
    },
    {
      "cell_type": "markdown",
      "metadata": {
        "id": "VqzKrUBRe2br",
        "colab_type": "text"
      },
      "source": [
        "### Operation on Array\n",
        "\n"
      ]
    },
    {
      "cell_type": "markdown",
      "metadata": {
        "id": "_jtfcxhmq31E",
        "colab_type": "text"
      },
      "source": [
        "\n",
        "#### Finding the length of an array"
      ]
    },
    {
      "cell_type": "code",
      "metadata": {
        "id": "I1o842Coawvo",
        "colab_type": "code",
        "outputId": "d9931f05-a223-42a9-e086-b5c7a7fcc912",
        "colab": {
          "base_uri": "https://localhost:8080/",
          "height": 34
        }
      },
      "source": [
        "len(a)"
      ],
      "execution_count": 0,
      "outputs": [
        {
          "output_type": "execute_result",
          "data": {
            "text/plain": [
              "5"
            ]
          },
          "metadata": {
            "tags": []
          },
          "execution_count": 5
        }
      ]
    },
    {
      "cell_type": "markdown",
      "metadata": {
        "id": "lw3FuqqVrJkG",
        "colab_type": "text"
      },
      "source": [
        "#### Adding elements"
      ]
    },
    {
      "cell_type": "code",
      "metadata": {
        "id": "z3LPA67Dfusb",
        "colab_type": "code",
        "outputId": "1902cd83-7a12-4753-9194-19c5a53f2844",
        "colab": {
          "base_uri": "https://localhost:8080/",
          "height": 34
        }
      },
      "source": [
        "a.append(8)\n",
        "print(a)"
      ],
      "execution_count": 0,
      "outputs": [
        {
          "output_type": "stream",
          "text": [
            "array('i', [1, 2, 3, 4, 5, 8])\n"
          ],
          "name": "stdout"
        }
      ]
    },
    {
      "cell_type": "code",
      "metadata": {
        "id": "QK0bVXT9gDni",
        "colab_type": "code",
        "outputId": "2eea20f5-a39b-4b5f-d53a-7f0fb4f9a671",
        "colab": {
          "base_uri": "https://localhost:8080/",
          "height": 34
        }
      },
      "source": [
        "a.extend([10,11,12])\n",
        "print(a)"
      ],
      "execution_count": 0,
      "outputs": [
        {
          "output_type": "stream",
          "text": [
            "array('i', [1, 2, 3, 4, 5, 8, 10, 11, 12])\n"
          ],
          "name": "stdout"
        }
      ]
    },
    {
      "cell_type": "code",
      "metadata": {
        "id": "z98IACd3gU8o",
        "colab_type": "code",
        "outputId": "141d6143-5c18-471b-ebdf-1036e5cad9bf",
        "colab": {
          "base_uri": "https://localhost:8080/",
          "height": 34
        }
      },
      "source": [
        "a.insert(2,70)\n",
        "print(a)"
      ],
      "execution_count": 0,
      "outputs": [
        {
          "output_type": "stream",
          "text": [
            "array('i', [1, 2, 70, 3, 4, 5, 8, 10, 11, 12])\n"
          ],
          "name": "stdout"
        }
      ]
    },
    {
      "cell_type": "markdown",
      "metadata": {
        "id": "3umPzH-9rPMB",
        "colab_type": "text"
      },
      "source": [
        "#### Removing elements"
      ]
    },
    {
      "cell_type": "code",
      "metadata": {
        "id": "rzfZMRxDgmyM",
        "colab_type": "code",
        "outputId": "b614f7b2-c8ea-4482-bd9c-a15c19243e5f",
        "colab": {
          "base_uri": "https://localhost:8080/",
          "height": 34
        }
      },
      "source": [
        "# remove elements at index 2\n",
        "a.pop(2) \n",
        "a"
      ],
      "execution_count": 0,
      "outputs": [
        {
          "output_type": "execute_result",
          "data": {
            "text/plain": [
              "array('i', [1, 2, 3, 4, 5, 8, 10, 11, 12])"
            ]
          },
          "metadata": {
            "tags": []
          },
          "execution_count": 9
        }
      ]
    },
    {
      "cell_type": "code",
      "metadata": {
        "id": "7iModY0shgWA",
        "colab_type": "code",
        "outputId": "468c6214-430e-4049-b1a1-a7df544bd904",
        "colab": {
          "base_uri": "https://localhost:8080/",
          "height": 34
        }
      },
      "source": [
        "# remove element 8\n",
        "a.remove(8) \n",
        "a"
      ],
      "execution_count": 0,
      "outputs": [
        {
          "output_type": "execute_result",
          "data": {
            "text/plain": [
              "array('i', [1, 2, 3, 4, 5, 10, 11, 12])"
            ]
          },
          "metadata": {
            "tags": []
          },
          "execution_count": 10
        }
      ]
    },
    {
      "cell_type": "markdown",
      "metadata": {
        "id": "XuIcvipmrbJY",
        "colab_type": "text"
      },
      "source": [
        "#### Array Concatenation"
      ]
    },
    {
      "cell_type": "code",
      "metadata": {
        "id": "POjd96u5iGtG",
        "colab_type": "code",
        "outputId": "8f7b99ef-1239-4bef-db18-36eeff8346eb",
        "colab": {
          "base_uri": "https://localhost:8080/",
          "height": 34
        }
      },
      "source": [
        "b=array.array('d',[1.0,2.0])\n",
        "c=array.array('d',[3.0,4.0])\n",
        "d=array.array('d')\n",
        "d=b+c\n",
        "d"
      ],
      "execution_count": 0,
      "outputs": [
        {
          "output_type": "execute_result",
          "data": {
            "text/plain": [
              "array('d', [1.0, 2.0, 3.0, 4.0])"
            ]
          },
          "metadata": {
            "tags": []
          },
          "execution_count": 11
        }
      ]
    },
    {
      "cell_type": "markdown",
      "metadata": {
        "id": "M4opJQg5rleW",
        "colab_type": "text"
      },
      "source": [
        "#### Slicing an array"
      ]
    },
    {
      "cell_type": "code",
      "metadata": {
        "id": "1lNvV8t3kFWU",
        "colab_type": "code",
        "outputId": "22699e44-47ba-4738-daaf-7f03696f94c4",
        "colab": {
          "base_uri": "https://localhost:8080/",
          "height": 34
        }
      },
      "source": [
        "print(d[0:2])\n"
      ],
      "execution_count": 0,
      "outputs": [
        {
          "output_type": "stream",
          "text": [
            "array('d', [1.0, 2.0])\n"
          ],
          "name": "stdout"
        }
      ]
    },
    {
      "cell_type": "code",
      "metadata": {
        "id": "0itjQTC9kUz7",
        "colab_type": "code",
        "outputId": "e79fd3d3-0c91-4c36-fcfb-5b0c4110501e",
        "colab": {
          "base_uri": "https://localhost:8080/",
          "height": 34
        }
      },
      "source": [
        "print(d[0:-1])\n"
      ],
      "execution_count": 0,
      "outputs": [
        {
          "output_type": "stream",
          "text": [
            "array('d', [1.0, 2.0, 3.0])\n"
          ],
          "name": "stdout"
        }
      ]
    },
    {
      "cell_type": "code",
      "metadata": {
        "id": "N_U6XZBnlKGe",
        "colab_type": "code",
        "outputId": "818305d2-ac8e-451c-ad83-54d40f701cc3",
        "colab": {
          "base_uri": "https://localhost:8080/",
          "height": 34
        }
      },
      "source": [
        "print(d[::-1])"
      ],
      "execution_count": 0,
      "outputs": [
        {
          "output_type": "stream",
          "text": [
            "array('d', [4.0, 3.0, 2.0, 1.0])\n"
          ],
          "name": "stdout"
        }
      ]
    },
    {
      "cell_type": "markdown",
      "metadata": {
        "id": "Ibuywbp7ru2d",
        "colab_type": "text"
      },
      "source": [
        "#### Looping throuht an array"
      ]
    },
    {
      "cell_type": "code",
      "metadata": {
        "id": "A3TTiZEflqVN",
        "colab_type": "code",
        "outputId": "09a7d726-4e07-46e0-d5f9-a3e292a0437a",
        "colab": {
          "base_uri": "https://localhost:8080/",
          "height": 34
        }
      },
      "source": [
        "print([x for x in d[:-1]])"
      ],
      "execution_count": 0,
      "outputs": [
        {
          "output_type": "stream",
          "text": [
            "[1.0, 2.0, 3.0]\n"
          ],
          "name": "stdout"
        }
      ]
    },
    {
      "cell_type": "code",
      "metadata": {
        "id": "sqvOv6JLmOFK",
        "colab_type": "code",
        "outputId": "7cecba57-3341-4a39-c153-7209ee8cca19",
        "colab": {
          "base_uri": "https://localhost:8080/",
          "height": 85
        }
      },
      "source": [
        "temp=0\n",
        "while temp<len(d):\n",
        "  print(d[temp])\n",
        "  temp+=1"
      ],
      "execution_count": 0,
      "outputs": [
        {
          "output_type": "stream",
          "text": [
            "1.0\n",
            "2.0\n",
            "3.0\n",
            "4.0\n"
          ],
          "name": "stdout"
        }
      ]
    },
    {
      "cell_type": "markdown",
      "metadata": {
        "id": "bMBJKqXmvVz0",
        "colab_type": "text"
      },
      "source": [
        "# Advanced array manipulation 1"
      ]
    },
    {
      "cell_type": "code",
      "metadata": {
        "id": "pjCbjejNaw-H",
        "colab_type": "code",
        "outputId": "9df206a6-d4af-4554-e432-ed0590d07834",
        "colab": {
          "base_uri": "https://localhost:8080/",
          "height": 85
        }
      },
      "source": [
        "import numpy as np\n",
        "\n",
        "# Building an array using numpy\n",
        "mydatashow=np.array([[1,2,3,4,5],[6,7,8,9,10],[11,12,13,14,15],[16,17,18,19,20]])\n",
        "print(mydatashow)\n"
      ],
      "execution_count": 0,
      "outputs": [
        {
          "output_type": "stream",
          "text": [
            "[[ 1  2  3  4  5]\n",
            " [ 6  7  8  9 10]\n",
            " [11 12 13 14 15]\n",
            " [16 17 18 19 20]]\n"
          ],
          "name": "stdout"
        }
      ]
    },
    {
      "cell_type": "code",
      "metadata": {
        "id": "nvokmqycE65p",
        "colab_type": "code",
        "outputId": "5f0b402d-0bfe-4fd6-9a47-9f7b0a9b160f",
        "colab": {
          "base_uri": "https://localhost:8080/",
          "height": 34
        }
      },
      "source": [
        "# Building an array without using numpy\n",
        "mydata=([[1,2,3,4,5],[6,7,8,9,10],[11,12,13,14,15],[16,17,18,19,20]])\n",
        "print(mydata)"
      ],
      "execution_count": 0,
      "outputs": [
        {
          "output_type": "stream",
          "text": [
            "[[1, 2, 3, 4, 5], [6, 7, 8, 9, 10], [11, 12, 13, 14, 15], [16, 17, 18, 19, 20]]\n"
          ],
          "name": "stdout"
        }
      ]
    },
    {
      "cell_type": "code",
      "metadata": {
        "id": "ySfPJvfPt_Ph",
        "colab_type": "code",
        "outputId": "bacb85b9-da9d-4d1a-8da9-fc9649ceeef7",
        "colab": {
          "base_uri": "https://localhost:8080/",
          "height": 85
        }
      },
      "source": [
        "# printing each raw\n",
        "for i in mydata:\n",
        "   print(i)"
      ],
      "execution_count": 0,
      "outputs": [
        {
          "output_type": "stream",
          "text": [
            "[1, 2, 3, 4, 5]\n",
            "[6, 7, 8, 9, 10]\n",
            "[11, 12, 13, 14, 15]\n",
            "[16, 17, 18, 19, 20]\n"
          ],
          "name": "stdout"
        }
      ]
    },
    {
      "cell_type": "code",
      "metadata": {
        "id": "GaXSf2Xnupql",
        "colab_type": "code",
        "outputId": "57826cd6-d8f0-436f-db36-6dc490fe3910",
        "colab": {
          "base_uri": "https://localhost:8080/",
          "height": 85
        }
      },
      "source": [
        "# printing the number of raws available\n",
        "for i in range(len(mydata)):\n",
        "   print(i)"
      ],
      "execution_count": 0,
      "outputs": [
        {
          "output_type": "stream",
          "text": [
            "0\n",
            "1\n",
            "2\n",
            "3\n"
          ],
          "name": "stdout"
        }
      ]
    },
    {
      "cell_type": "code",
      "metadata": {
        "id": "pohRTA1Gu-Ue",
        "colab_type": "code",
        "outputId": "88ca02e4-8299-4711-a997-6725fc9f2e2a",
        "colab": {
          "base_uri": "https://localhost:8080/",
          "height": 102
        }
      },
      "source": [
        "# printing the number of columns available\n",
        "for j in range(len(mydata[0])):\n",
        "   print(j)"
      ],
      "execution_count": 0,
      "outputs": [
        {
          "output_type": "stream",
          "text": [
            "0\n",
            "1\n",
            "2\n",
            "3\n",
            "4\n"
          ],
          "name": "stdout"
        }
      ]
    },
    {
      "cell_type": "code",
      "metadata": {
        "id": "FCtOQUavvkBb",
        "colab_type": "code",
        "outputId": "4200b014-116c-4142-e868-eb9574bd2d49",
        "colab": {
          "base_uri": "https://localhost:8080/",
          "height": 357
        }
      },
      "source": [
        "# printing all element starting from raw 0 to the last one\n",
        "for i in range(len(mydata)): \n",
        "  for j in range(len(mydata[0])):\n",
        "    print(mydata[i][j])"
      ],
      "execution_count": 0,
      "outputs": [
        {
          "output_type": "stream",
          "text": [
            "1\n",
            "2\n",
            "3\n",
            "4\n",
            "5\n",
            "6\n",
            "7\n",
            "8\n",
            "9\n",
            "10\n",
            "11\n",
            "12\n",
            "13\n",
            "14\n",
            "15\n",
            "16\n",
            "17\n",
            "18\n",
            "19\n",
            "20\n"
          ],
          "name": "stdout"
        }
      ]
    },
    {
      "cell_type": "code",
      "metadata": {
        "id": "-2SoCSsiz68w",
        "colab_type": "code",
        "outputId": "2b495518-90dc-4c0b-8ed9-9562621b3c47",
        "colab": {
          "base_uri": "https://localhost:8080/",
          "height": 170
        }
      },
      "source": [
        "# printing all element from raw 0 to 2 /from column 1 to column 3\n",
        "for i in range(0,3): \n",
        "  for j in range(1,4):\n",
        "    print(mydata[i][j])"
      ],
      "execution_count": 0,
      "outputs": [
        {
          "output_type": "stream",
          "text": [
            "2\n",
            "3\n",
            "4\n",
            "7\n",
            "8\n",
            "9\n",
            "12\n",
            "13\n",
            "14\n"
          ],
          "name": "stdout"
        }
      ]
    },
    {
      "cell_type": "markdown",
      "metadata": {
        "id": "zVsbCE36AiDf",
        "colab_type": "text"
      },
      "source": [
        "### Adding two Matrices"
      ]
    },
    {
      "cell_type": "code",
      "metadata": {
        "id": "n6xMgTRY_A6p",
        "colab_type": "code",
        "outputId": "1283ffc3-fe4c-4118-a8d0-7dffe48130e8",
        "colab": {
          "base_uri": "https://localhost:8080/",
          "height": 68
        }
      },
      "source": [
        "# Program to add two matrices\n",
        "X = [[12,7,3],\n",
        "    [4 ,5,6],\n",
        "    [7 ,8,9]]\n",
        "Y = [[5,8,1],\n",
        "    [6,7,3],\n",
        "    [4,5,9]]\n",
        "result = [[0,0,0],\n",
        "         [0,0,0],\n",
        "         [0,0,0]]\n",
        "\n",
        "# iterate through rows\n",
        "for i in range(len(X)):\n",
        "   # iterate through columns\n",
        "   for j in range(len(X[0])):\n",
        "       result[i][j] = X[i][j] + Y[i][j]\n",
        "for r in result:\n",
        "   print(r)"
      ],
      "execution_count": 0,
      "outputs": [
        {
          "output_type": "stream",
          "text": [
            "[17, 15, 4]\n",
            "[10, 12, 9]\n",
            "[11, 13, 18]\n"
          ],
          "name": "stdout"
        }
      ]
    },
    {
      "cell_type": "markdown",
      "metadata": {
        "id": "k2KVrADBAv2L",
        "colab_type": "text"
      },
      "source": [
        "### Multiplying two matrices"
      ]
    },
    {
      "cell_type": "code",
      "metadata": {
        "id": "r5qLfKmd_UgJ",
        "colab_type": "code",
        "outputId": "82dde0bc-bbc7-474b-978c-54467d56ab97",
        "colab": {
          "base_uri": "https://localhost:8080/",
          "height": 68
        }
      },
      "source": [
        "# Program to multiply two matrices \n",
        "# 3x3 matrix\n",
        "X = [[12,7,3],\n",
        "    [4 ,5,6],\n",
        "    [7 ,8,9]]\n",
        "# 3x4 matrix\n",
        "Y = [[5,8,1,2],\n",
        "    [6,7,3,0],\n",
        "    [4,5,9,1]]\n",
        "# result is 3x4\n",
        "result = [[0,0,0,0],\n",
        "         [0,0,0,0],\n",
        "         [0,0,0,0]]\n",
        "# iterate through rows of X\n",
        "for i in range(len(X)):\n",
        "   # iterate through columns of Y\n",
        "   for j in range(len(Y[0])):\n",
        "       # iterate through rows of Y\n",
        "       for k in range(len(Y)):\n",
        "           result[i][j] += X[i][k] * Y[k][j]\n",
        "for r in result:\n",
        "   print(r)"
      ],
      "execution_count": 0,
      "outputs": [
        {
          "output_type": "stream",
          "text": [
            "[114, 160, 60, 27]\n",
            "[74, 97, 73, 14]\n",
            "[119, 157, 112, 23]\n"
          ],
          "name": "stdout"
        }
      ]
    },
    {
      "cell_type": "markdown",
      "metadata": {
        "id": "Zg7XCNTnfncP",
        "colab_type": "text"
      },
      "source": [
        "### Dot product of two matrices"
      ]
    },
    {
      "cell_type": "code",
      "metadata": {
        "id": "GqYymReQZdOO",
        "colab_type": "code",
        "outputId": "21365ceb-6be4-48e5-c366-97802fcfcfbb",
        "colab": {
          "base_uri": "https://localhost:8080/",
          "height": 68
        }
      },
      "source": [
        "# Computing dot product of matrices\n",
        "\n",
        "def dotpro(X,Y):\n",
        "    if len(X[0])!=len(Y):\n",
        "      return 'Required Matrices Dimension Error'\n",
        "    else:\n",
        "        # Initializing Result Matrix       \n",
        "        N =len(Y[0]) #4 Declaring rows\n",
        "        M =len(X) #3 Declaring columns \n",
        "        R = [[ 0 for i in range(N) ] for j in range(M)] \n",
        "\n",
        "        # R= [[0,0],\n",
        "        #     [0,0]]\n",
        "\n",
        "        # iterate through rows of X\n",
        "        for i in range(len(X)):\n",
        "          # iterate through columns of Y\n",
        "          for j in range(len(Y[0])):\n",
        "            # iterate through rows of Y\n",
        "            for k in range(len(Y)):\n",
        "                R[i][j]+=(X[i][k]*Y[k][j])\n",
        "        return R\n",
        "\n",
        "# 3x3 matrix\n",
        "X = [[12,7,3],\n",
        "    [4 ,5,6],\n",
        "    [7 ,8,9]]\n",
        "# 3x4 matrix\n",
        "Y = [[5,8,1,2],\n",
        "    [6,7,3,0],\n",
        "    [4,5,9,1]]\n",
        "\n",
        "\n",
        "\n",
        "\n",
        "print(np.array(dotpro(X,Y)))  \n",
        "#print(np.dot(X,Y))"
      ],
      "execution_count": 0,
      "outputs": [
        {
          "output_type": "stream",
          "text": [
            "[[114 160  60  27]\n",
            " [ 74  97  73  14]\n",
            " [119 157 112  23]]\n"
          ],
          "name": "stdout"
        }
      ]
    },
    {
      "cell_type": "markdown",
      "metadata": {
        "id": "D80LPJUvBmIv",
        "colab_type": "text"
      },
      "source": [
        "### Transpose a matrix"
      ]
    },
    {
      "cell_type": "code",
      "metadata": {
        "id": "N4k-ycC0_UYB",
        "colab_type": "code",
        "outputId": "27215f03-94b4-4cbc-96ff-4d69030a6ff4",
        "colab": {
          "base_uri": "https://localhost:8080/",
          "height": 51
        }
      },
      "source": [
        "# Program to transpose a matrix \n",
        "X = [[12,7],\n",
        "    [4 ,5],\n",
        "    [3 ,8]]\n",
        "result = [[0,0,0],\n",
        "         [0,0,0]]\n",
        "# iterate through rows\n",
        "for i in range(len(X)):\n",
        "   # iterate through columns\n",
        "   for j in range(len(X[0])):\n",
        "       result[j][i] = X[i][j]\n",
        "for r in result:\n",
        "   print(r)"
      ],
      "execution_count": 0,
      "outputs": [
        {
          "output_type": "stream",
          "text": [
            "[12, 4, 3]\n",
            "[7, 5, 8]\n"
          ],
          "name": "stdout"
        }
      ]
    },
    {
      "cell_type": "markdown",
      "metadata": {
        "id": "6YaeXcSbClKc",
        "colab_type": "text"
      },
      "source": [
        "### Program to count the number of each vowels"
      ]
    },
    {
      "cell_type": "code",
      "metadata": {
        "id": "bT5l9OLs_8qr",
        "colab_type": "code",
        "outputId": "b553474e-6f43-4df0-f530-0b4ee386c0b9",
        "colab": {
          "base_uri": "https://localhost:8080/",
          "height": 34
        }
      },
      "source": [
        "# Program to count the number of each vowels\n",
        "# string of vowels\n",
        "vowels = 'aeiou'\n",
        "ip_str = 'Hello, have you tried our tutorial section yet?'\n",
        "# make it suitable for caseless comparisions\n",
        "ip_str = ip_str.casefold()\n",
        "# make a dictionary with each vowel a key and value 0\n",
        "count = {}.fromkeys(vowels,0)\n",
        "# count the vowels\n",
        "for char in ip_str:\n",
        "   if char in count:\n",
        "       count[char] += 1\n",
        "print(count)"
      ],
      "execution_count": 0,
      "outputs": [
        {
          "output_type": "stream",
          "text": [
            "{'a': 2, 'e': 5, 'i': 3, 'o': 5, 'u': 3}\n"
          ],
          "name": "stdout"
        }
      ]
    },
    {
      "cell_type": "markdown",
      "metadata": {
        "id": "9EMeQNuSDWRa",
        "colab_type": "text"
      },
      "source": [
        "### Program to display the Fibonacci sequence up to n-th term"
      ]
    },
    {
      "cell_type": "code",
      "metadata": {
        "id": "GgLQ5V1W_8cf",
        "colab_type": "code",
        "outputId": "a46b75ae-0d4c-4bde-80ba-9cb868d0f0c2",
        "colab": {
          "base_uri": "https://localhost:8080/",
          "height": 136
        }
      },
      "source": [
        "# Program to display the Fibonacci sequence up to n-th term\n",
        "nterms = int(input(\"How many terms? \"))\n",
        "# first two terms\n",
        "n1, n2 = 0, 1\n",
        "count = 0\n",
        "# check if the number of terms is valid\n",
        "if nterms <= 0:\n",
        "   print(\"Please enter a positive integer\")\n",
        "elif nterms == 1:\n",
        "   print(\"Fibonacci sequence upto\",nterms,\":\")\n",
        "   print(n1)\n",
        "else:\n",
        "   print(\"Fibonacci sequence:\")\n",
        "   while count < nterms:\n",
        "       print(n1)\n",
        "       nth = n1 + n2\n",
        "       # update values\n",
        "       n1 = n2\n",
        "       n2 = nth\n",
        "       count += 1"
      ],
      "execution_count": 0,
      "outputs": [
        {
          "output_type": "stream",
          "text": [
            "How many terms? 5\n",
            "Fibonacci sequence:\n",
            "0\n",
            "1\n",
            "1\n",
            "2\n",
            "3\n"
          ],
          "name": "stdout"
        }
      ]
    },
    {
      "cell_type": "markdown",
      "metadata": {
        "id": "xr2Br_GpG_28",
        "colab_type": "text"
      },
      "source": [
        "### Program to check if a number is prime"
      ]
    },
    {
      "cell_type": "code",
      "metadata": {
        "id": "ag2ENhTuGc3R",
        "colab_type": "code",
        "outputId": "98a0dcc0-d088-46ac-9ead-923095f27bf1",
        "colab": {
          "base_uri": "https://localhost:8080/",
          "height": 85
        }
      },
      "source": [
        "a=int(input(\"enter number\"))     \n",
        "if a>1:\n",
        "    for x in range(2,a):\n",
        "        if(a%x)==0:\n",
        "            print(\"not prime\")\n",
        "            break\n",
        "        else:\n",
        "            print(\"Prime\")\n",
        "else:\n",
        "    print(\"not prime\")"
      ],
      "execution_count": 0,
      "outputs": [
        {
          "output_type": "stream",
          "text": [
            "enter number5\n",
            "Prime\n",
            "Prime\n",
            "Prime\n"
          ],
          "name": "stdout"
        }
      ]
    },
    {
      "cell_type": "markdown",
      "metadata": {
        "id": "fv0qw2OkIibw",
        "colab_type": "text"
      },
      "source": [
        "### Program to check if a sequence is a Palindrome"
      ]
    },
    {
      "cell_type": "code",
      "metadata": {
        "id": "lO3nJtPfIJxq",
        "colab_type": "code",
        "outputId": "32ba57e3-0b1e-4b4f-ff2e-d4bc0c3feaf7",
        "colab": {
          "base_uri": "https://localhost:8080/",
          "height": 51
        }
      },
      "source": [
        "a=input(\"enter sequence\")\n",
        "b=a[::-1]\n",
        "if a==b:\n",
        "    print(\"palindrome\")\n",
        "else:\n",
        "    print(\"Not a Palindrome\")"
      ],
      "execution_count": 0,
      "outputs": [
        {
          "output_type": "stream",
          "text": [
            "enter sequence1221\n",
            "palindrome\n"
          ],
          "name": "stdout"
        }
      ]
    },
    {
      "cell_type": "markdown",
      "metadata": {
        "id": "v0-VOwEhKtzR",
        "colab_type": "text"
      },
      "source": [
        "### Program to count the number of capital letters in a file"
      ]
    },
    {
      "cell_type": "code",
      "metadata": {
        "id": "MgjjbDRrJ_jJ",
        "colab_type": "code",
        "colab": {}
      },
      "source": [
        "with open(SOME_LARGE_FILE) as fh:\n",
        "count = 0\n",
        "text = fh.read()\n",
        "for character in text:\n",
        "    if character.isupper():\n",
        "count += 1"
      ],
      "execution_count": 0,
      "outputs": []
    },
    {
      "cell_type": "markdown",
      "metadata": {
        "id": "7qEYIKpxVi0p",
        "colab_type": "text"
      },
      "source": [
        "### Sorting algorithm for a numerical dataset"
      ]
    },
    {
      "cell_type": "code",
      "metadata": {
        "id": "quXqMnRdVY75",
        "colab_type": "code",
        "outputId": "7afb79f7-5411-488a-9369-c6953ac7184d",
        "colab": {
          "base_uri": "https://localhost:8080/",
          "height": 34
        }
      },
      "source": [
        "list = [\"1\", \"4\", \"0\", \"6\", \"9\"]\n",
        "list = [int(i) for i in list]\n",
        "list.sort()\n",
        "print (list)"
      ],
      "execution_count": 0,
      "outputs": [
        {
          "output_type": "stream",
          "text": [
            "[0, 1, 4, 6, 9]\n"
          ],
          "name": "stdout"
        }
      ]
    },
    {
      "cell_type": "markdown",
      "metadata": {
        "id": "grQhZHfJDpOB",
        "colab_type": "text"
      },
      "source": [
        "# Advanced array manipulation 2"
      ]
    },
    {
      "cell_type": "code",
      "metadata": {
        "id": "hNJxiU2_wZwx",
        "colab_type": "code",
        "outputId": "9f8bab7d-8439-47b4-e806-d63ca215023a",
        "colab": {
          "base_uri": "https://localhost:8080/",
          "height": 102
        }
      },
      "source": [
        "# Extracting intersection between 2 triangles applied to the dataframe\n",
        "def intersection(mydata,triangle1,triangle2):\n",
        "    firstlist=[]\n",
        "    secondlist=[]\n",
        "    for i in range(triangle1[0],triangle1[2]+1): # elements covered with 1st triangle\n",
        "      for j in range(triangle1[1],triangle1[3]+1):\n",
        "        firstlist.append(mydata[i][j])\n",
        "\n",
        "    for i in range(triangle2[0],triangle2[2]+1): # elements covered with 2nd triangle\n",
        "      for j in range(triangle2[1],triangle2[3]+1):\n",
        "        secondlist.append(mydata[i][j])\n",
        " \n",
        "    intersec = [value for value in firstlist if value in secondlist] #intersection of both sets\n",
        "    return firstlist,secondlist,intersec\n",
        "\n",
        "\n",
        "\n",
        "#returns the jaccard similarity between two lists\n",
        "def jaccard_similarity(x,y):\n",
        "    intersection_cardinality = len(set.intersection(*[set(x), set(y)]))\n",
        "    union_cardinality = len(set.union(*[set(x), set(y)]))\n",
        "    return intersection_cardinality/float(union_cardinality)\n",
        "\n",
        "\n",
        "triangle1=[0,1,2,3]\n",
        "triangle2=[1,2,3,4]\n",
        "\n",
        "firstlist,secondlist,intersec = intersection(mydata,triangle1,triangle2)\n",
        "print(firstlist)\n",
        "print(secondlist)\n",
        "print(intersec)\n",
        "print()\n",
        "jaccard_similarity(firstlist,secondlist)"
      ],
      "execution_count": 0,
      "outputs": [
        {
          "output_type": "stream",
          "text": [
            "[2, 3, 4, 7, 8, 9, 12, 13, 14]\n",
            "[8, 9, 10, 13, 14, 15, 18, 19, 20]\n",
            "[8, 9, 13, 14]\n",
            "\n"
          ],
          "name": "stdout"
        },
        {
          "output_type": "execute_result",
          "data": {
            "text/plain": [
              "0.2857142857142857"
            ]
          },
          "metadata": {
            "tags": []
          },
          "execution_count": 34
        }
      ]
    },
    {
      "cell_type": "markdown",
      "metadata": {
        "id": "lHvpYDM4dpoR",
        "colab_type": "text"
      },
      "source": [
        "# Some about function"
      ]
    },
    {
      "cell_type": "code",
      "metadata": {
        "id": "qSRnBXOHdxS7",
        "colab_type": "code",
        "outputId": "3401e782-7174-49d4-8af2-7bae917f9e0f",
        "colab": {
          "base_uri": "https://localhost:8080/",
          "height": 34
        }
      },
      "source": [
        "x = ['ID','State','Amount']\n",
        "def func2(id_st_amt):\n",
        "    # Unpack Values\n",
        "    (Id,st,amt) = id_st_amt\n",
        "    return amt\n",
        "\n",
        "func2(x)"
      ],
      "execution_count": 0,
      "outputs": [
        {
          "output_type": "execute_result",
          "data": {
            "text/plain": [
              "'Amount'"
            ]
          },
          "metadata": {
            "tags": []
          },
          "execution_count": 35
        }
      ]
    }
  ]
}
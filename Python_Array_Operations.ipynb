{
  "nbformat": 4,
  "nbformat_minor": 0,
  "metadata": {
    "colab": {
      "name": "Python Array Operations",
      "provenance": [],
      "collapsed_sections": [],
      "include_colab_link": true
    },
    "kernelspec": {
      "display_name": "Python 3",
      "name": "python3"
    }
  },
  "cells": [
    {
      "cell_type": "markdown",
      "metadata": {
        "id": "view-in-github",
        "colab_type": "text"
      },
      "source": [
        "<a href=\"https://colab.research.google.com/github/cesarniyo/Credit-Card-Fraud-Detection-ANOMALY-DETECTION/blob/master/Python_Array_Operations.ipynb\" target=\"_parent\"><img src=\"https://colab.research.google.com/assets/colab-badge.svg\" alt=\"Open In Colab\"/></a>"
      ]
    },
    {
      "cell_type": "markdown",
      "metadata": {
        "id": "vGjQC-Zsak_X",
        "colab_type": "text"
      },
      "source": [
        "# Python Array Operations"
      ]
    },
    {
      "cell_type": "markdown",
      "metadata": {
        "id": "cp6GejlSbp0t",
        "colab_type": "text"
      },
      "source": [
        "What is an array?\n",
        "\n",
        "An array is a **data structure** which can hold more than one value at time. It is a collection of elements of the SAME TYPE.\n",
        "Each element/value has an index associated."
      ]
    },
    {
      "cell_type": "markdown",
      "metadata": {
        "id": "_V3NOXF_wQIr",
        "colab_type": "text"
      },
      "source": [
        "# Basic array manipulation"
      ]
    },
    {
      "cell_type": "markdown",
      "metadata": {
        "id": "J7Ek-f7loLov",
        "colab_type": "text"
      },
      "source": [
        "### Importing array module"
      ]
    },
    {
      "cell_type": "code",
      "metadata": {
        "id": "4pc7O1XKaxKs",
        "colab_type": "code",
        "colab": {}
      },
      "source": [
        "import array\n",
        "# import array as arr\n",
        "#from array import *"
      ],
      "execution_count": 0,
      "outputs": []
    },
    {
      "cell_type": "code",
      "metadata": {
        "id": "lmFacYJSaxHq",
        "colab_type": "code",
        "outputId": "eb7c3bce-cfeb-4239-864e-8810b883fe77",
        "colab": {
          "base_uri": "https://localhost:8080/",
          "height": 34
        }
      },
      "source": [
        "a =array.array('i',[1,2,3,4,5])\n",
        "print(a)"
      ],
      "execution_count": 58,
      "outputs": [
        {
          "output_type": "stream",
          "text": [
            "array('i', [1, 2, 3, 4, 5])\n"
          ],
          "name": "stdout"
        }
      ]
    },
    {
      "cell_type": "markdown",
      "metadata": {
        "id": "75ms0xQIeIv2",
        "colab_type": "text"
      },
      "source": [
        "### Accessing array elements"
      ]
    },
    {
      "cell_type": "code",
      "metadata": {
        "id": "5EM-6QLSaxED",
        "colab_type": "code",
        "outputId": "06e5a739-4b89-4d53-c972-14ca226568c0",
        "colab": {
          "base_uri": "https://localhost:8080/",
          "height": 34
        }
      },
      "source": [
        "a[2]"
      ],
      "execution_count": 59,
      "outputs": [
        {
          "output_type": "execute_result",
          "data": {
            "text/plain": [
              "3"
            ]
          },
          "metadata": {
            "tags": []
          },
          "execution_count": 59
        }
      ]
    },
    {
      "cell_type": "code",
      "metadata": {
        "id": "vdrsYPrwaw8L",
        "colab_type": "code",
        "outputId": "88a0e57e-3968-48d4-fc6b-00dde765a095",
        "colab": {
          "base_uri": "https://localhost:8080/",
          "height": 34
        }
      },
      "source": [
        "a[-2]"
      ],
      "execution_count": 60,
      "outputs": [
        {
          "output_type": "execute_result",
          "data": {
            "text/plain": [
              "4"
            ]
          },
          "metadata": {
            "tags": []
          },
          "execution_count": 60
        }
      ]
    },
    {
      "cell_type": "markdown",
      "metadata": {
        "id": "VqzKrUBRe2br",
        "colab_type": "text"
      },
      "source": [
        "### Operation on Array\n",
        "\n"
      ]
    },
    {
      "cell_type": "markdown",
      "metadata": {
        "id": "_jtfcxhmq31E",
        "colab_type": "text"
      },
      "source": [
        "\n",
        "#### Finding the length of an array"
      ]
    },
    {
      "cell_type": "code",
      "metadata": {
        "id": "I1o842Coawvo",
        "colab_type": "code",
        "outputId": "cb387ed8-33ef-4501-d2d7-bb902ff37971",
        "colab": {
          "base_uri": "https://localhost:8080/",
          "height": 34
        }
      },
      "source": [
        "len(a)"
      ],
      "execution_count": 61,
      "outputs": [
        {
          "output_type": "execute_result",
          "data": {
            "text/plain": [
              "5"
            ]
          },
          "metadata": {
            "tags": []
          },
          "execution_count": 61
        }
      ]
    },
    {
      "cell_type": "markdown",
      "metadata": {
        "id": "lw3FuqqVrJkG",
        "colab_type": "text"
      },
      "source": [
        "#### Adding elements"
      ]
    },
    {
      "cell_type": "code",
      "metadata": {
        "id": "z3LPA67Dfusb",
        "colab_type": "code",
        "outputId": "a1806ea5-19c9-437c-959f-aaab6cc4e3e6",
        "colab": {
          "base_uri": "https://localhost:8080/",
          "height": 34
        }
      },
      "source": [
        "a.append(8)\n",
        "print(a)"
      ],
      "execution_count": 62,
      "outputs": [
        {
          "output_type": "stream",
          "text": [
            "array('i', [1, 2, 3, 4, 5, 8])\n"
          ],
          "name": "stdout"
        }
      ]
    },
    {
      "cell_type": "code",
      "metadata": {
        "id": "QK0bVXT9gDni",
        "colab_type": "code",
        "outputId": "9b30ac6f-c4b6-43f3-b5dd-ec782d65a72d",
        "colab": {
          "base_uri": "https://localhost:8080/",
          "height": 34
        }
      },
      "source": [
        "a.extend([10,11,12])\n",
        "print(a)"
      ],
      "execution_count": 63,
      "outputs": [
        {
          "output_type": "stream",
          "text": [
            "array('i', [1, 2, 3, 4, 5, 8, 10, 11, 12])\n"
          ],
          "name": "stdout"
        }
      ]
    },
    {
      "cell_type": "code",
      "metadata": {
        "id": "z98IACd3gU8o",
        "colab_type": "code",
        "outputId": "b51b3391-aae2-49ac-b31f-074b37249ba8",
        "colab": {
          "base_uri": "https://localhost:8080/",
          "height": 34
        }
      },
      "source": [
        "a.insert(2,70)\n",
        "print(a)"
      ],
      "execution_count": 64,
      "outputs": [
        {
          "output_type": "stream",
          "text": [
            "array('i', [1, 2, 70, 3, 4, 5, 8, 10, 11, 12])\n"
          ],
          "name": "stdout"
        }
      ]
    },
    {
      "cell_type": "markdown",
      "metadata": {
        "id": "3umPzH-9rPMB",
        "colab_type": "text"
      },
      "source": [
        "#### Removing elements"
      ]
    },
    {
      "cell_type": "code",
      "metadata": {
        "id": "rzfZMRxDgmyM",
        "colab_type": "code",
        "outputId": "fc34ee3a-22c4-466e-cd9b-c633c1118a70",
        "colab": {
          "base_uri": "https://localhost:8080/",
          "height": 34
        }
      },
      "source": [
        "a.pop(2) # remove elements at index 2\n",
        "a"
      ],
      "execution_count": 65,
      "outputs": [
        {
          "output_type": "execute_result",
          "data": {
            "text/plain": [
              "array('i', [1, 2, 3, 4, 5, 8, 10, 11, 12])"
            ]
          },
          "metadata": {
            "tags": []
          },
          "execution_count": 65
        }
      ]
    },
    {
      "cell_type": "code",
      "metadata": {
        "id": "7iModY0shgWA",
        "colab_type": "code",
        "outputId": "14821c71-3126-4625-eb6e-83f4de2b75e8",
        "colab": {
          "base_uri": "https://localhost:8080/",
          "height": 34
        }
      },
      "source": [
        "a.remove(8) # remove element 8\n",
        "a"
      ],
      "execution_count": 66,
      "outputs": [
        {
          "output_type": "execute_result",
          "data": {
            "text/plain": [
              "array('i', [1, 2, 3, 4, 5, 10, 11, 12])"
            ]
          },
          "metadata": {
            "tags": []
          },
          "execution_count": 66
        }
      ]
    },
    {
      "cell_type": "markdown",
      "metadata": {
        "id": "XuIcvipmrbJY",
        "colab_type": "text"
      },
      "source": [
        "#### Array Concatenation"
      ]
    },
    {
      "cell_type": "code",
      "metadata": {
        "id": "POjd96u5iGtG",
        "colab_type": "code",
        "outputId": "c76464bb-d286-4938-c6de-f530097e8a37",
        "colab": {
          "base_uri": "https://localhost:8080/",
          "height": 34
        }
      },
      "source": [
        "b=array.array('d',[1.0,2.0])\n",
        "c=array.array('d',[3.0,4.0])\n",
        "d=array.array('d')\n",
        "d=b+c\n",
        "d"
      ],
      "execution_count": 67,
      "outputs": [
        {
          "output_type": "execute_result",
          "data": {
            "text/plain": [
              "array('d', [1.0, 2.0, 3.0, 4.0])"
            ]
          },
          "metadata": {
            "tags": []
          },
          "execution_count": 67
        }
      ]
    },
    {
      "cell_type": "markdown",
      "metadata": {
        "id": "M4opJQg5rleW",
        "colab_type": "text"
      },
      "source": [
        "#### Slicing an array"
      ]
    },
    {
      "cell_type": "code",
      "metadata": {
        "id": "1lNvV8t3kFWU",
        "colab_type": "code",
        "outputId": "511889d2-8ef0-4aa0-d482-49fe44e1e07e",
        "colab": {
          "base_uri": "https://localhost:8080/",
          "height": 34
        }
      },
      "source": [
        "print(d[0:2])\n"
      ],
      "execution_count": 68,
      "outputs": [
        {
          "output_type": "stream",
          "text": [
            "array('d', [1.0, 2.0])\n"
          ],
          "name": "stdout"
        }
      ]
    },
    {
      "cell_type": "code",
      "metadata": {
        "id": "0itjQTC9kUz7",
        "colab_type": "code",
        "outputId": "bb31abd4-1e60-4543-f2bc-536a02fba63c",
        "colab": {
          "base_uri": "https://localhost:8080/",
          "height": 34
        }
      },
      "source": [
        "print(d[0:-1])\n"
      ],
      "execution_count": 69,
      "outputs": [
        {
          "output_type": "stream",
          "text": [
            "array('d', [1.0, 2.0, 3.0])\n"
          ],
          "name": "stdout"
        }
      ]
    },
    {
      "cell_type": "code",
      "metadata": {
        "id": "N_U6XZBnlKGe",
        "colab_type": "code",
        "outputId": "fb0dd52d-0b82-48b9-ad4e-07b5d9661e81",
        "colab": {
          "base_uri": "https://localhost:8080/",
          "height": 34
        }
      },
      "source": [
        "print(d[::-1])"
      ],
      "execution_count": 70,
      "outputs": [
        {
          "output_type": "stream",
          "text": [
            "array('d', [4.0, 3.0, 2.0, 1.0])\n"
          ],
          "name": "stdout"
        }
      ]
    },
    {
      "cell_type": "markdown",
      "metadata": {
        "id": "Ibuywbp7ru2d",
        "colab_type": "text"
      },
      "source": [
        "#### Looping throuht an array"
      ]
    },
    {
      "cell_type": "code",
      "metadata": {
        "id": "A3TTiZEflqVN",
        "colab_type": "code",
        "outputId": "00a14ff3-e79f-4d76-9c8a-8435865c495b",
        "colab": {
          "base_uri": "https://localhost:8080/",
          "height": 34
        }
      },
      "source": [
        "print([x for x in d[:-1]])"
      ],
      "execution_count": 71,
      "outputs": [
        {
          "output_type": "stream",
          "text": [
            "[1.0, 2.0, 3.0]\n"
          ],
          "name": "stdout"
        }
      ]
    },
    {
      "cell_type": "code",
      "metadata": {
        "id": "sqvOv6JLmOFK",
        "colab_type": "code",
        "outputId": "9a7a6b93-0c46-45a5-a17b-659346520453",
        "colab": {
          "base_uri": "https://localhost:8080/",
          "height": 85
        }
      },
      "source": [
        "temp=0\n",
        "while temp<len(d):\n",
        "  print(d[temp])\n",
        "  temp+=1"
      ],
      "execution_count": 72,
      "outputs": [
        {
          "output_type": "stream",
          "text": [
            "1.0\n",
            "2.0\n",
            "3.0\n",
            "4.0\n"
          ],
          "name": "stdout"
        }
      ]
    },
    {
      "cell_type": "markdown",
      "metadata": {
        "id": "bMBJKqXmvVz0",
        "colab_type": "text"
      },
      "source": [
        "# Advanced array manipulation 1"
      ]
    },
    {
      "cell_type": "code",
      "metadata": {
        "id": "pjCbjejNaw-H",
        "colab_type": "code",
        "outputId": "8c8b0da1-ef25-48e1-fb81-447f4d0c9840",
        "colab": {
          "base_uri": "https://localhost:8080/",
          "height": 85
        }
      },
      "source": [
        "import numpy as np\n",
        "mydatashow=np.array([[1,2,3,4,5],[6,7,8,9,10],[11,12,13,14,15],[16,17,18,19,20]])\n",
        "print(mydatashow)\n"
      ],
      "execution_count": 73,
      "outputs": [
        {
          "output_type": "stream",
          "text": [
            "[[ 1  2  3  4  5]\n",
            " [ 6  7  8  9 10]\n",
            " [11 12 13 14 15]\n",
            " [16 17 18 19 20]]\n"
          ],
          "name": "stdout"
        }
      ]
    },
    {
      "cell_type": "code",
      "metadata": {
        "id": "nvokmqycE65p",
        "colab_type": "code",
        "outputId": "62723d1f-9244-48c0-f350-44670a8a9585",
        "colab": {
          "base_uri": "https://localhost:8080/",
          "height": 34
        }
      },
      "source": [
        "mydata=([[1,2,3,4,5],[6,7,8,9,10],[11,12,13,14,15],[16,17,18,19,20]])\n",
        "print(mydata)"
      ],
      "execution_count": 74,
      "outputs": [
        {
          "output_type": "stream",
          "text": [
            "[[1, 2, 3, 4, 5], [6, 7, 8, 9, 10], [11, 12, 13, 14, 15], [16, 17, 18, 19, 20]]\n"
          ],
          "name": "stdout"
        }
      ]
    },
    {
      "cell_type": "code",
      "metadata": {
        "id": "ySfPJvfPt_Ph",
        "colab_type": "code",
        "outputId": "7750f145-083b-4677-d476-4aadc0a25b77",
        "colab": {
          "base_uri": "https://localhost:8080/",
          "height": 85
        }
      },
      "source": [
        "for i in mydata:# printing each raw\n",
        "   print(i)"
      ],
      "execution_count": 75,
      "outputs": [
        {
          "output_type": "stream",
          "text": [
            "[1, 2, 3, 4, 5]\n",
            "[6, 7, 8, 9, 10]\n",
            "[11, 12, 13, 14, 15]\n",
            "[16, 17, 18, 19, 20]\n"
          ],
          "name": "stdout"
        }
      ]
    },
    {
      "cell_type": "code",
      "metadata": {
        "id": "GaXSf2Xnupql",
        "colab_type": "code",
        "outputId": "4a8e73eb-5984-426a-d2b6-41cb5691a38d",
        "colab": {
          "base_uri": "https://localhost:8080/",
          "height": 85
        }
      },
      "source": [
        "for i in range(len(mydata)):# printing the number of raws\n",
        "   print(i)"
      ],
      "execution_count": 76,
      "outputs": [
        {
          "output_type": "stream",
          "text": [
            "0\n",
            "1\n",
            "2\n",
            "3\n"
          ],
          "name": "stdout"
        }
      ]
    },
    {
      "cell_type": "code",
      "metadata": {
        "id": "pohRTA1Gu-Ue",
        "colab_type": "code",
        "outputId": "12d9a838-8649-43fe-8960-bf3a405c2b21",
        "colab": {
          "base_uri": "https://localhost:8080/",
          "height": 102
        }
      },
      "source": [
        "for j in range(len(mydata[0])):# printing the number of columns\n",
        "   print(j)"
      ],
      "execution_count": 77,
      "outputs": [
        {
          "output_type": "stream",
          "text": [
            "0\n",
            "1\n",
            "2\n",
            "3\n",
            "4\n"
          ],
          "name": "stdout"
        }
      ]
    },
    {
      "cell_type": "code",
      "metadata": {
        "id": "FCtOQUavvkBb",
        "colab_type": "code",
        "outputId": "60845b2f-9802-41c3-eb64-fc5208538e3d",
        "colab": {
          "base_uri": "https://localhost:8080/",
          "height": 357
        }
      },
      "source": [
        "for i in range(len(mydata)): # printing all element from raw 0 to the last one\n",
        "  for j in range(len(mydata[0])):\n",
        "    print(mydata[i][j])"
      ],
      "execution_count": 78,
      "outputs": [
        {
          "output_type": "stream",
          "text": [
            "1\n",
            "2\n",
            "3\n",
            "4\n",
            "5\n",
            "6\n",
            "7\n",
            "8\n",
            "9\n",
            "10\n",
            "11\n",
            "12\n",
            "13\n",
            "14\n",
            "15\n",
            "16\n",
            "17\n",
            "18\n",
            "19\n",
            "20\n"
          ],
          "name": "stdout"
        }
      ]
    },
    {
      "cell_type": "code",
      "metadata": {
        "id": "-2SoCSsiz68w",
        "colab_type": "code",
        "outputId": "8680c1cd-2234-4d41-c21d-0a6f88eac4aa",
        "colab": {
          "base_uri": "https://localhost:8080/",
          "height": 170
        }
      },
      "source": [
        "for i in range(0,3): # printing all element from raw 0 to 2 /from column 1 to column 3\n",
        "  for j in range(1,4):\n",
        "    print(mydata[i][j])"
      ],
      "execution_count": 79,
      "outputs": [
        {
          "output_type": "stream",
          "text": [
            "2\n",
            "3\n",
            "4\n",
            "7\n",
            "8\n",
            "9\n",
            "12\n",
            "13\n",
            "14\n"
          ],
          "name": "stdout"
        }
      ]
    },
    {
      "cell_type": "markdown",
      "metadata": {
        "id": "zVsbCE36AiDf",
        "colab_type": "text"
      },
      "source": [
        "### Adding two Matrices"
      ]
    },
    {
      "cell_type": "code",
      "metadata": {
        "id": "n6xMgTRY_A6p",
        "colab_type": "code",
        "colab": {
          "base_uri": "https://localhost:8080/",
          "height": 68
        },
        "outputId": "937765fe-9cdc-4bce-fe15-fd8559b93949"
      },
      "source": [
        "# Program to add two matrices\n",
        "X = [[12,7,3],\n",
        "    [4 ,5,6],\n",
        "    [7 ,8,9]]\n",
        "Y = [[5,8,1],\n",
        "    [6,7,3],\n",
        "    [4,5,9]]\n",
        "result = [[0,0,0],\n",
        "         [0,0,0],\n",
        "         [0,0,0]]\n",
        "\n",
        "# iterate through rows\n",
        "for i in range(len(X)):\n",
        "   # iterate through columns\n",
        "   for j in range(len(X[0])):\n",
        "       result[i][j] = X[i][j] + Y[i][j]\n",
        "for r in result:\n",
        "   print(r)"
      ],
      "execution_count": 80,
      "outputs": [
        {
          "output_type": "stream",
          "text": [
            "[17, 15, 4]\n",
            "[10, 12, 9]\n",
            "[11, 13, 18]\n"
          ],
          "name": "stdout"
        }
      ]
    },
    {
      "cell_type": "markdown",
      "metadata": {
        "id": "k2KVrADBAv2L",
        "colab_type": "text"
      },
      "source": [
        "### Multiplying two matrices"
      ]
    },
    {
      "cell_type": "code",
      "metadata": {
        "id": "r5qLfKmd_UgJ",
        "colab_type": "code",
        "colab": {
          "base_uri": "https://localhost:8080/",
          "height": 68
        },
        "outputId": "9b41bc29-3612-4c39-a8f4-f3e2d9d4e28f"
      },
      "source": [
        "# Program to multiply two matrices \n",
        "# 3x3 matrix\n",
        "X = [[12,7,3],\n",
        "    [4 ,5,6],\n",
        "    [7 ,8,9]]\n",
        "# 3x4 matrix\n",
        "Y = [[5,8,1,2],\n",
        "    [6,7,3,0],\n",
        "    [4,5,9,1]]\n",
        "# result is 3x4\n",
        "result = [[0,0,0,0],\n",
        "         [0,0,0,0],\n",
        "         [0,0,0,0]]\n",
        "# iterate through rows of X\n",
        "for i in range(len(X)):\n",
        "   # iterate through columns of Y\n",
        "   for j in range(len(Y[0])):\n",
        "       # iterate through rows of Y\n",
        "       for k in range(len(Y)):\n",
        "           result[i][j] += X[i][k] * Y[k][j]\n",
        "for r in result:\n",
        "   print(r)"
      ],
      "execution_count": 81,
      "outputs": [
        {
          "output_type": "stream",
          "text": [
            "[114, 160, 60, 27]\n",
            "[74, 97, 73, 14]\n",
            "[119, 157, 112, 23]\n"
          ],
          "name": "stdout"
        }
      ]
    },
    {
      "cell_type": "markdown",
      "metadata": {
        "id": "Zg7XCNTnfncP",
        "colab_type": "text"
      },
      "source": [
        "### Dot product of two matrices"
      ]
    },
    {
      "cell_type": "code",
      "metadata": {
        "id": "GqYymReQZdOO",
        "colab_type": "code",
        "colab": {
          "base_uri": "https://localhost:8080/",
          "height": 68
        },
        "outputId": "51a00c13-0f29-4ded-8648-4298f8f84b32"
      },
      "source": [
        "# Computing dot product of matrices\n",
        "\n",
        "def dotpro(X,Y):\n",
        "    if len(X[0])!=len(Y):\n",
        "      return 'Required Matrices Dimension Error'\n",
        "    else:\n",
        "        # Initializing Result Matrix       \n",
        "        N =len(Y[0]) #4 Declaring rows\n",
        "        M =len(X) #3 Declaring columns \n",
        "        R = [[ 0 for i in range(N) ] for j in range(M)] \n",
        "\n",
        "        # R= [[0,0],\n",
        "        #     [0,0]]\n",
        "\n",
        "        # iterate through rows of X\n",
        "        for i in range(len(X)):\n",
        "          # iterate through columns of Y\n",
        "          for j in range(len(Y[0])):\n",
        "            # iterate through rows of Y\n",
        "            for k in range(len(Y)):\n",
        "                R[i][j]+=(X[i][k]*Y[k][j])\n",
        "        return R\n",
        "\n",
        "# 3x3 matrix\n",
        "X = [[12,7,3],\n",
        "    [4 ,5,6],\n",
        "    [7 ,8,9]]\n",
        "# 3x4 matrix\n",
        "Y = [[5,8,1,2],\n",
        "    [6,7,3,0],\n",
        "    [4,5,9,1]]\n",
        "\n",
        "\n",
        "\n",
        "\n",
        "print(np.array(dotpro(X,Y)))  \n",
        "#print(np.dot(X,Y))"
      ],
      "execution_count": 152,
      "outputs": [
        {
          "output_type": "stream",
          "text": [
            "[[114 160  60  27]\n",
            " [ 74  97  73  14]\n",
            " [119 157 112  23]]\n"
          ],
          "name": "stdout"
        }
      ]
    },
    {
      "cell_type": "markdown",
      "metadata": {
        "id": "D80LPJUvBmIv",
        "colab_type": "text"
      },
      "source": [
        "### Transpose a matrix"
      ]
    },
    {
      "cell_type": "code",
      "metadata": {
        "id": "N4k-ycC0_UYB",
        "colab_type": "code",
        "colab": {
          "base_uri": "https://localhost:8080/",
          "height": 51
        },
        "outputId": "8bcc55e2-6e39-4250-bcab-951d3f1993f1"
      },
      "source": [
        "# Program to transpose a matrix \n",
        "X = [[12,7],\n",
        "    [4 ,5],\n",
        "    [3 ,8]]\n",
        "result = [[0,0,0],\n",
        "         [0,0,0]]\n",
        "# iterate through rows\n",
        "for i in range(len(X)):\n",
        "   # iterate through columns\n",
        "   for j in range(len(X[0])):\n",
        "       result[j][i] = X[i][j]\n",
        "for r in result:\n",
        "   print(r)"
      ],
      "execution_count": 27,
      "outputs": [
        {
          "output_type": "stream",
          "text": [
            "[12, 4, 3]\n",
            "[7, 5, 8]\n"
          ],
          "name": "stdout"
        }
      ]
    },
    {
      "cell_type": "markdown",
      "metadata": {
        "id": "6YaeXcSbClKc",
        "colab_type": "text"
      },
      "source": [
        "### Program to count the number of each vowels"
      ]
    },
    {
      "cell_type": "code",
      "metadata": {
        "id": "bT5l9OLs_8qr",
        "colab_type": "code",
        "colab": {
          "base_uri": "https://localhost:8080/",
          "height": 34
        },
        "outputId": "316d46e3-abef-4c48-d5e8-35ece8fef813"
      },
      "source": [
        "# Program to count the number of each vowels\n",
        "# string of vowels\n",
        "vowels = 'aeiou'\n",
        "ip_str = 'Hello, have you tried our tutorial section yet?'\n",
        "# make it suitable for caseless comparisions\n",
        "ip_str = ip_str.casefold()\n",
        "# make a dictionary with each vowel a key and value 0\n",
        "count = {}.fromkeys(vowels,0)\n",
        "# count the vowels\n",
        "for char in ip_str:\n",
        "   if char in count:\n",
        "       count[char] += 1\n",
        "print(count)"
      ],
      "execution_count": 28,
      "outputs": [
        {
          "output_type": "stream",
          "text": [
            "{'a': 2, 'e': 5, 'i': 3, 'o': 5, 'u': 3}\n"
          ],
          "name": "stdout"
        }
      ]
    },
    {
      "cell_type": "markdown",
      "metadata": {
        "id": "9EMeQNuSDWRa",
        "colab_type": "text"
      },
      "source": [
        "### Program to display the Fibonacci sequence up to n-th term"
      ]
    },
    {
      "cell_type": "code",
      "metadata": {
        "id": "GgLQ5V1W_8cf",
        "colab_type": "code",
        "colab": {
          "base_uri": "https://localhost:8080/",
          "height": 136
        },
        "outputId": "59b965c7-8fda-4f52-87f0-3b64bd906375"
      },
      "source": [
        "# Program to display the Fibonacci sequence up to n-th term\n",
        "nterms = int(input(\"How many terms? \"))\n",
        "# first two terms\n",
        "n1, n2 = 0, 1\n",
        "count = 0\n",
        "# check if the number of terms is valid\n",
        "if nterms <= 0:\n",
        "   print(\"Please enter a positive integer\")\n",
        "elif nterms == 1:\n",
        "   print(\"Fibonacci sequence upto\",nterms,\":\")\n",
        "   print(n1)\n",
        "else:\n",
        "   print(\"Fibonacci sequence:\")\n",
        "   while count < nterms:\n",
        "       print(n1)\n",
        "       nth = n1 + n2\n",
        "       # update values\n",
        "       n1 = n2\n",
        "       n2 = nth\n",
        "       count += 1"
      ],
      "execution_count": 29,
      "outputs": [
        {
          "output_type": "stream",
          "text": [
            "How many terms? 5\n",
            "Fibonacci sequence:\n",
            "0\n",
            "1\n",
            "1\n",
            "2\n",
            "3\n"
          ],
          "name": "stdout"
        }
      ]
    },
    {
      "cell_type": "markdown",
      "metadata": {
        "id": "grQhZHfJDpOB",
        "colab_type": "text"
      },
      "source": [
        "# Advanced array manipulation 2"
      ]
    },
    {
      "cell_type": "code",
      "metadata": {
        "id": "hNJxiU2_wZwx",
        "colab_type": "code",
        "outputId": "a24e9345-64a9-4729-ddc5-a39e2bd762f2",
        "colab": {
          "base_uri": "https://localhost:8080/",
          "height": 102
        }
      },
      "source": [
        "# Extracting intersection between 2 triangles applied to the dataframe\n",
        "def intersection(mydata,triangle1,triangle2):\n",
        "    firstlist=[]\n",
        "    secondlist=[]\n",
        "    for i in range(triangle1[0],triangle1[2]+1): # elements covered with 1st triangle\n",
        "      for j in range(triangle1[1],triangle1[3]+1):\n",
        "        firstlist.append(mydata[i][j])\n",
        "\n",
        "    for i in range(triangle2[0],triangle2[2]+1): # elements covered with 2nd triangle\n",
        "      for j in range(triangle2[1],triangle2[3]+1):\n",
        "        secondlist.append(mydata[i][j])\n",
        " \n",
        "    intersec = [value for value in firstlist if value in secondlist] #intersection of both sets\n",
        "    return firstlist,secondlist,intersec\n",
        "\n",
        "\n",
        "\n",
        "#returns the jaccard similarity between two lists\n",
        "def jaccard_similarity(x,y):\n",
        "    intersection_cardinality = len(set.intersection(*[set(x), set(y)]))\n",
        "    union_cardinality = len(set.union(*[set(x), set(y)]))\n",
        "    return intersection_cardinality/float(union_cardinality)\n",
        "\n",
        "\n",
        "triangle1=[0,1,2,3]\n",
        "triangle2=[1,2,3,4]\n",
        "\n",
        "firstlist,secondlist,intersec = intersection(mydata,triangle1,triangle2)\n",
        "print(firstlist)\n",
        "print(secondlist)\n",
        "print(intersec)\n",
        "print()\n",
        "jaccard_similarity(firstlist,secondlist)"
      ],
      "execution_count": 30,
      "outputs": [
        {
          "output_type": "stream",
          "text": [
            "[2, 3, 4, 7, 8, 9, 12, 13, 14]\n",
            "[8, 9, 10, 13, 14, 15, 18, 19, 20]\n",
            "[8, 9, 13, 14]\n",
            "\n"
          ],
          "name": "stdout"
        },
        {
          "output_type": "execute_result",
          "data": {
            "text/plain": [
              "0.2857142857142857"
            ]
          },
          "metadata": {
            "tags": []
          },
          "execution_count": 30
        }
      ]
    },
    {
      "cell_type": "markdown",
      "metadata": {
        "id": "lHvpYDM4dpoR",
        "colab_type": "text"
      },
      "source": [
        "# Some about function"
      ]
    },
    {
      "cell_type": "code",
      "metadata": {
        "id": "qSRnBXOHdxS7",
        "colab_type": "code",
        "colab": {
          "base_uri": "https://localhost:8080/",
          "height": 34
        },
        "outputId": "52620005-7901-4c5d-9925-3dbc31c9079c"
      },
      "source": [
        "x = ['ID','State','Amount']\n",
        "def func2(id_st_amt):\n",
        "    # Unpack Values\n",
        "    (Id,st,amt) = id_st_amt\n",
        "    return amt\n",
        "\n",
        "func2(x)"
      ],
      "execution_count": 31,
      "outputs": [
        {
          "output_type": "execute_result",
          "data": {
            "text/plain": [
              "'Amount'"
            ]
          },
          "metadata": {
            "tags": []
          },
          "execution_count": 31
        }
      ]
    }
  ]
}